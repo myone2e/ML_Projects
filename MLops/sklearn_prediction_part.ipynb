{
 "cells": [
  {
   "cell_type": "code",
   "execution_count": 2,
   "id": "9eaa534e",
   "metadata": {},
   "outputs": [],
   "source": [
    "import boto3\n",
    "import json\n",
    "import mlflow.sagemaker as mfs"
   ]
  },
  {
   "cell_type": "code",
   "execution_count": 10,
   "id": "11f3a050",
   "metadata": {},
   "outputs": [],
   "source": [
    "app_name = 'Sagemaker-Creditcard'\n",
    "execution_role_arn = 'arn:aws:iam::354520713950:role/SageMaker-ExecutionRole'\n",
    "image_ecr_url = '354520713950.dkr.ecr.ap-northeast-2.amazonaws.com/mlflow-pyfunc:1.26.1'\n",
    "region = 'ap-northeast-2'\n",
    "\n",
    "s3_bucket_name = 'mlops-creditcard-runs'\n",
    "experiment_id = '3'\n",
    "run_id ='200271414f29476984998383ad8a700e'\n",
    "model_name ='anom_weight_5_fold_4'\n",
    "\n",
    "model_uri = \"s3://{}/{}/{}/artifacts/{}/\".format(s3_bucket_name, experiment_id, run_id, model_name)"
   ]
  },
  {
   "cell_type": "code",
   "execution_count": 1,
   "id": "8401cec5",
   "metadata": {},
   "outputs": [],
   "source": [
    "def query(input_json):\n",
    "    client = boto3.session.Session().client('sagemaker-runtime', region)\n",
    "    response = client.invoke_endpoint(\n",
    "        EndpointName=app_name,\n",
    "        Body=input_json,\n",
    "        ContentType='application/json; format=pandas-split',\n",
    "    )\n",
    "    preds = response['Body'].read().decode('ascii')\n",
    "    preds = json.loads(preds)\n",
    "    return preds"
   ]
  },
  {
   "cell_type": "code",
   "execution_count": 43,
   "id": "a6b6ffb0",
   "metadata": {},
   "outputs": [],
   "source": [
    "import pandas as pd\n",
    "import mlflow\n",
    "import mlflow.sklearn\n",
    "import seaborn as sns\n",
    "import matplotlib.pyplot as plt\n",
    "from sklearn.preprocessing import StandardScaler\n",
    "from sklearn.model_selection import train_test_split\n",
    "from sklearn.metrics import roc_auc_score, accuracy_score, confusion_matrix, recall_score, f1_score, classification_report\n",
    "import numpy as np"
   ]
  },
  {
   "cell_type": "code",
   "execution_count": 35,
   "id": "f79b35de",
   "metadata": {},
   "outputs": [],
   "source": [
    "df = pd.read_csv('creditcard.csv')"
   ]
  },
  {
   "cell_type": "code",
   "execution_count": 36,
   "id": "ab158faf",
   "metadata": {},
   "outputs": [],
   "source": [
    "normal = df[df.Class == 0].sample(frac=0.5, random_state=42).reset_index(drop=True)\n",
    "anomaly = df[df.Class == 1]\n",
    "normal_train, normal_test = train_test_split(normal,\n",
    "test_size = 0.2, random_state = 42)\n",
    "anomaly_train, anomaly_test = train_test_split(anomaly,\n",
    "test_size = 0.2, random_state = 42)"
   ]
  },
  {
   "cell_type": "code",
   "execution_count": 37,
   "id": "7dd83118",
   "metadata": {},
   "outputs": [
    {
     "data": {
      "text/plain": [
       "StandardScaler()"
      ]
     },
     "execution_count": 37,
     "metadata": {},
     "output_type": "execute_result"
    }
   ],
   "source": [
    "scaler = StandardScaler()\n",
    "scaler.fit(pd.concat((normal, anomaly)).drop([\"Time\", \"Class\"], axis=1))"
   ]
  },
  {
   "cell_type": "code",
   "execution_count": 38,
   "id": "9323f01e",
   "metadata": {},
   "outputs": [],
   "source": [
    "scaled_selection = scaler.transform(df.iloc[:80].drop([\"Time\", \"Class\"], axis=1))\n",
    "input_json = pd.DataFrame(scaled_selection).to_json(orient=\"split\")"
   ]
  },
  {
   "cell_type": "code",
   "execution_count": 39,
   "id": "9831155e",
   "metadata": {},
   "outputs": [
    {
     "data": {
      "text/html": [
       "<div>\n",
       "<style scoped>\n",
       "    .dataframe tbody tr th:only-of-type {\n",
       "        vertical-align: middle;\n",
       "    }\n",
       "\n",
       "    .dataframe tbody tr th {\n",
       "        vertical-align: top;\n",
       "    }\n",
       "\n",
       "    .dataframe thead th {\n",
       "        text-align: right;\n",
       "    }\n",
       "</style>\n",
       "<table border=\"1\" class=\"dataframe\">\n",
       "  <thead>\n",
       "    <tr style=\"text-align: right;\">\n",
       "      <th></th>\n",
       "      <th>0</th>\n",
       "      <th>1</th>\n",
       "      <th>2</th>\n",
       "      <th>3</th>\n",
       "      <th>4</th>\n",
       "      <th>5</th>\n",
       "      <th>6</th>\n",
       "      <th>7</th>\n",
       "      <th>8</th>\n",
       "      <th>9</th>\n",
       "      <th>...</th>\n",
       "      <th>70</th>\n",
       "      <th>71</th>\n",
       "      <th>72</th>\n",
       "      <th>73</th>\n",
       "      <th>74</th>\n",
       "      <th>75</th>\n",
       "      <th>76</th>\n",
       "      <th>77</th>\n",
       "      <th>78</th>\n",
       "      <th>79</th>\n",
       "    </tr>\n",
       "  </thead>\n",
       "  <tbody>\n",
       "    <tr>\n",
       "      <th>0</th>\n",
       "      <td>1</td>\n",
       "      <td>1</td>\n",
       "      <td>0</td>\n",
       "      <td>0</td>\n",
       "      <td>1</td>\n",
       "      <td>1</td>\n",
       "      <td>1</td>\n",
       "      <td>1</td>\n",
       "      <td>1</td>\n",
       "      <td>1</td>\n",
       "      <td>...</td>\n",
       "      <td>1</td>\n",
       "      <td>1</td>\n",
       "      <td>1</td>\n",
       "      <td>1</td>\n",
       "      <td>1</td>\n",
       "      <td>1</td>\n",
       "      <td>1</td>\n",
       "      <td>1</td>\n",
       "      <td>1</td>\n",
       "      <td>1</td>\n",
       "    </tr>\n",
       "  </tbody>\n",
       "</table>\n",
       "<p>1 rows × 80 columns</p>\n",
       "</div>"
      ],
      "text/plain": [
       "   0   1   2   3   4   5   6   7   8   9   ...  70  71  72  73  74  75  76  \\\n",
       "0   1   1   0   0   1   1   1   1   1   1  ...   1   1   1   1   1   1   1   \n",
       "\n",
       "   77  78  79  \n",
       "0   1   1   1  \n",
       "\n",
       "[1 rows x 80 columns]"
      ]
     },
     "execution_count": 39,
     "metadata": {},
     "output_type": "execute_result"
    }
   ],
   "source": [
    "pd.DataFrame(query(input_json)).T"
   ]
  },
  {
   "cell_type": "code",
   "execution_count": 56,
   "id": "92f16d79",
   "metadata": {},
   "outputs": [],
   "source": [
    "test = pd.concat((normal.iloc[:2500], anomaly.iloc[:300]))\n",
    "true = test.Class\n",
    "test = scaler.transform(test.drop([\"Time\", \"Class\"], axis=1))\n",
    "preds = []"
   ]
  },
  {
   "cell_type": "markdown",
   "id": "68ed34dc",
   "metadata": {},
   "source": [
    "## Undersampling Method => Only high recall for out of sample test!"
   ]
  },
  {
   "cell_type": "code",
   "execution_count": 57,
   "id": "433504ca",
   "metadata": {},
   "outputs": [
    {
     "name": "stdout",
     "output_type": "stream",
     "text": [
      "Batch 0 - Completed\n",
      "Batch 1 - Completed\n",
      "Batch 2 - Completed\n",
      "Batch 3 - Completed\n",
      "Batch 4 - Completed\n",
      "Batch 5 - Completed\n",
      "Batch 6 - Completed\n",
      "Batch 7 - Completed\n",
      "Batch 8 - Completed\n",
      "Batch 9 - Completed\n",
      "Batch 10 - Completed\n",
      "Batch 11 - Completed\n",
      "Batch 12 - Completed\n",
      "Batch 13 - Completed\n",
      "Batch 14 - Completed\n",
      "Batch 15 - Completed\n",
      "Batch 16 - Completed\n",
      "Batch 17 - Completed\n",
      "Batch 18 - Completed\n",
      "Batch 19 - Completed\n",
      "Batch 20 - Completed\n",
      "Batch 21 - Completed\n",
      "Batch 22 - Completed\n",
      "Batch 23 - Completed\n",
      "Batch 24 - Completed\n",
      "Batch 25 - Completed\n",
      "Batch 26 - Completed\n",
      "Batch 27 - Completed\n",
      "Batch 28 - Completed\n",
      "Batch 29 - Completed\n",
      "Batch 30 - Completed\n",
      "Batch 31 - Completed\n",
      "Batch 32 - Completed\n",
      "Batch 33 - Completed\n",
      "Batch 34 - Completed\n",
      "Eval Acc 0.4014285714285714\n",
      "Eval AUC 0.6604\n",
      "Eval f1 0.2616740088105727\n",
      "Eval Recall 0.99\n"
     ]
    }
   ],
   "source": [
    "batch_size = 80\n",
    "for f in range(35):\n",
    "    print(f\"Batch {f}\", end=\" - \")\n",
    "    sample = pd.DataFrame(test[f*batch_size:(f+1)*batch_size]).to_json(orient=\"split\")\n",
    "    \n",
    "    output = query(sample)\n",
    "    resp = pd.DataFrame([output])\n",
    "    \n",
    "    preds = np.concatenate((preds, resp.values[0]))\n",
    "    print(\"Completed\")\n",
    "eval_acc = accuracy_score(true, preds)\n",
    "eval_auc = roc_auc_score(true, preds)\n",
    "eval_f1 = f1_score(true, preds)\n",
    "eval_recall = recall_score(true, preds)\n",
    "print(\"Eval Acc\", eval_acc)\n",
    "print(\"Eval AUC\", eval_auc)\n",
    "print(\"Eval f1\", eval_f1)\n",
    "print(\"Eval Recall\", eval_recall)"
   ]
  },
  {
   "cell_type": "code",
   "execution_count": 58,
   "id": "b41143eb",
   "metadata": {},
   "outputs": [
    {
     "name": "stdout",
     "output_type": "stream",
     "text": [
      "              precision    recall  f1-score   support\n",
      "\n",
      "           0       1.00      0.33      0.50      2500\n",
      "           1       0.15      0.99      0.26       300\n",
      "\n",
      "    accuracy                           0.40      2800\n",
      "   macro avg       0.57      0.66      0.38      2800\n",
      "weighted avg       0.91      0.40      0.47      2800\n",
      "\n"
     ]
    }
   ],
   "source": [
    "print(classification_report(true, preds))"
   ]
  },
  {
   "cell_type": "code",
   "execution_count": 59,
   "id": "14c27766",
   "metadata": {},
   "outputs": [
    {
     "name": "stdout",
     "output_type": "stream",
     "text": [
      "[[ 827 1673]\n",
      " [   3  297]]\n"
     ]
    }
   ],
   "source": [
    "print(confusion_matrix(true, preds))"
   ]
  },
  {
   "cell_type": "code",
   "execution_count": null,
   "id": "74b985fd",
   "metadata": {},
   "outputs": [],
   "source": []
  }
 ],
 "metadata": {
  "kernelspec": {
   "display_name": "Python 3 (ipykernel)",
   "language": "python",
   "name": "python3"
  },
  "language_info": {
   "codemirror_mode": {
    "name": "ipython",
    "version": 3
   },
   "file_extension": ".py",
   "mimetype": "text/x-python",
   "name": "python",
   "nbconvert_exporter": "python",
   "pygments_lexer": "ipython3",
   "version": "3.8.12"
  }
 },
 "nbformat": 4,
 "nbformat_minor": 5
}

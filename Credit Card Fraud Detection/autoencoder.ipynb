{
 "cells": [
  {
   "cell_type": "code",
   "execution_count": 1,
   "id": "f3d8c50c",
   "metadata": {},
   "outputs": [],
   "source": [
    "import pandas as pd\n",
    "import numpy as np\n",
    "import pickle\n",
    "import matplotlib.pyplot as plt\n",
    "from scipy import stats\n",
    "import tensorflow as tf\n",
    "import seaborn as sns\n",
    "sns.set(style='whitegrid', palette='muted', font_scale=1.5)\n",
    "from pylab import rcParams\n",
    "from sklearn.model_selection import train_test_split\n",
    "from keras.models import Model, load_model\n",
    "from keras.layers import Input, Dense\n",
    "from keras.callbacks import ModelCheckpoint, TensorBoard\n",
    "from keras import regularizers\n",
    "import warnings\n",
    "warnings.filterwarnings('ignore')\n"
   ]
  },
  {
   "cell_type": "code",
   "execution_count": 2,
   "id": "6c33792f",
   "metadata": {},
   "outputs": [
    {
     "data": {
      "text/html": [
       "<div>\n",
       "<style scoped>\n",
       "    .dataframe tbody tr th:only-of-type {\n",
       "        vertical-align: middle;\n",
       "    }\n",
       "\n",
       "    .dataframe tbody tr th {\n",
       "        vertical-align: top;\n",
       "    }\n",
       "\n",
       "    .dataframe thead th {\n",
       "        text-align: right;\n",
       "    }\n",
       "</style>\n",
       "<table border=\"1\" class=\"dataframe\">\n",
       "  <thead>\n",
       "    <tr style=\"text-align: right;\">\n",
       "      <th></th>\n",
       "      <th>Time</th>\n",
       "      <th>V1</th>\n",
       "      <th>V2</th>\n",
       "      <th>V3</th>\n",
       "      <th>V4</th>\n",
       "      <th>V5</th>\n",
       "      <th>V6</th>\n",
       "      <th>V7</th>\n",
       "      <th>V8</th>\n",
       "      <th>V9</th>\n",
       "      <th>...</th>\n",
       "      <th>V21</th>\n",
       "      <th>V22</th>\n",
       "      <th>V23</th>\n",
       "      <th>V24</th>\n",
       "      <th>V25</th>\n",
       "      <th>V26</th>\n",
       "      <th>V27</th>\n",
       "      <th>V28</th>\n",
       "      <th>Amount</th>\n",
       "      <th>Class</th>\n",
       "    </tr>\n",
       "  </thead>\n",
       "  <tbody>\n",
       "    <tr>\n",
       "      <th>0</th>\n",
       "      <td>0.0</td>\n",
       "      <td>-1.359807</td>\n",
       "      <td>-0.072781</td>\n",
       "      <td>2.536347</td>\n",
       "      <td>1.378155</td>\n",
       "      <td>-0.338321</td>\n",
       "      <td>0.462388</td>\n",
       "      <td>0.239599</td>\n",
       "      <td>0.098698</td>\n",
       "      <td>0.363787</td>\n",
       "      <td>...</td>\n",
       "      <td>-0.018307</td>\n",
       "      <td>0.277838</td>\n",
       "      <td>-0.110474</td>\n",
       "      <td>0.066928</td>\n",
       "      <td>0.128539</td>\n",
       "      <td>-0.189115</td>\n",
       "      <td>0.133558</td>\n",
       "      <td>-0.021053</td>\n",
       "      <td>149.62</td>\n",
       "      <td>0</td>\n",
       "    </tr>\n",
       "    <tr>\n",
       "      <th>1</th>\n",
       "      <td>0.0</td>\n",
       "      <td>1.191857</td>\n",
       "      <td>0.266151</td>\n",
       "      <td>0.166480</td>\n",
       "      <td>0.448154</td>\n",
       "      <td>0.060018</td>\n",
       "      <td>-0.082361</td>\n",
       "      <td>-0.078803</td>\n",
       "      <td>0.085102</td>\n",
       "      <td>-0.255425</td>\n",
       "      <td>...</td>\n",
       "      <td>-0.225775</td>\n",
       "      <td>-0.638672</td>\n",
       "      <td>0.101288</td>\n",
       "      <td>-0.339846</td>\n",
       "      <td>0.167170</td>\n",
       "      <td>0.125895</td>\n",
       "      <td>-0.008983</td>\n",
       "      <td>0.014724</td>\n",
       "      <td>2.69</td>\n",
       "      <td>0</td>\n",
       "    </tr>\n",
       "    <tr>\n",
       "      <th>2</th>\n",
       "      <td>1.0</td>\n",
       "      <td>-1.358354</td>\n",
       "      <td>-1.340163</td>\n",
       "      <td>1.773209</td>\n",
       "      <td>0.379780</td>\n",
       "      <td>-0.503198</td>\n",
       "      <td>1.800499</td>\n",
       "      <td>0.791461</td>\n",
       "      <td>0.247676</td>\n",
       "      <td>-1.514654</td>\n",
       "      <td>...</td>\n",
       "      <td>0.247998</td>\n",
       "      <td>0.771679</td>\n",
       "      <td>0.909412</td>\n",
       "      <td>-0.689281</td>\n",
       "      <td>-0.327642</td>\n",
       "      <td>-0.139097</td>\n",
       "      <td>-0.055353</td>\n",
       "      <td>-0.059752</td>\n",
       "      <td>378.66</td>\n",
       "      <td>0</td>\n",
       "    </tr>\n",
       "    <tr>\n",
       "      <th>3</th>\n",
       "      <td>1.0</td>\n",
       "      <td>-0.966272</td>\n",
       "      <td>-0.185226</td>\n",
       "      <td>1.792993</td>\n",
       "      <td>-0.863291</td>\n",
       "      <td>-0.010309</td>\n",
       "      <td>1.247203</td>\n",
       "      <td>0.237609</td>\n",
       "      <td>0.377436</td>\n",
       "      <td>-1.387024</td>\n",
       "      <td>...</td>\n",
       "      <td>-0.108300</td>\n",
       "      <td>0.005274</td>\n",
       "      <td>-0.190321</td>\n",
       "      <td>-1.175575</td>\n",
       "      <td>0.647376</td>\n",
       "      <td>-0.221929</td>\n",
       "      <td>0.062723</td>\n",
       "      <td>0.061458</td>\n",
       "      <td>123.50</td>\n",
       "      <td>0</td>\n",
       "    </tr>\n",
       "    <tr>\n",
       "      <th>4</th>\n",
       "      <td>2.0</td>\n",
       "      <td>-1.158233</td>\n",
       "      <td>0.877737</td>\n",
       "      <td>1.548718</td>\n",
       "      <td>0.403034</td>\n",
       "      <td>-0.407193</td>\n",
       "      <td>0.095921</td>\n",
       "      <td>0.592941</td>\n",
       "      <td>-0.270533</td>\n",
       "      <td>0.817739</td>\n",
       "      <td>...</td>\n",
       "      <td>-0.009431</td>\n",
       "      <td>0.798278</td>\n",
       "      <td>-0.137458</td>\n",
       "      <td>0.141267</td>\n",
       "      <td>-0.206010</td>\n",
       "      <td>0.502292</td>\n",
       "      <td>0.219422</td>\n",
       "      <td>0.215153</td>\n",
       "      <td>69.99</td>\n",
       "      <td>0</td>\n",
       "    </tr>\n",
       "    <tr>\n",
       "      <th>5</th>\n",
       "      <td>2.0</td>\n",
       "      <td>-0.425966</td>\n",
       "      <td>0.960523</td>\n",
       "      <td>1.141109</td>\n",
       "      <td>-0.168252</td>\n",
       "      <td>0.420987</td>\n",
       "      <td>-0.029728</td>\n",
       "      <td>0.476201</td>\n",
       "      <td>0.260314</td>\n",
       "      <td>-0.568671</td>\n",
       "      <td>...</td>\n",
       "      <td>-0.208254</td>\n",
       "      <td>-0.559825</td>\n",
       "      <td>-0.026398</td>\n",
       "      <td>-0.371427</td>\n",
       "      <td>-0.232794</td>\n",
       "      <td>0.105915</td>\n",
       "      <td>0.253844</td>\n",
       "      <td>0.081080</td>\n",
       "      <td>3.67</td>\n",
       "      <td>0</td>\n",
       "    </tr>\n",
       "    <tr>\n",
       "      <th>6</th>\n",
       "      <td>4.0</td>\n",
       "      <td>1.229658</td>\n",
       "      <td>0.141004</td>\n",
       "      <td>0.045371</td>\n",
       "      <td>1.202613</td>\n",
       "      <td>0.191881</td>\n",
       "      <td>0.272708</td>\n",
       "      <td>-0.005159</td>\n",
       "      <td>0.081213</td>\n",
       "      <td>0.464960</td>\n",
       "      <td>...</td>\n",
       "      <td>-0.167716</td>\n",
       "      <td>-0.270710</td>\n",
       "      <td>-0.154104</td>\n",
       "      <td>-0.780055</td>\n",
       "      <td>0.750137</td>\n",
       "      <td>-0.257237</td>\n",
       "      <td>0.034507</td>\n",
       "      <td>0.005168</td>\n",
       "      <td>4.99</td>\n",
       "      <td>0</td>\n",
       "    </tr>\n",
       "    <tr>\n",
       "      <th>7</th>\n",
       "      <td>7.0</td>\n",
       "      <td>-0.644269</td>\n",
       "      <td>1.417964</td>\n",
       "      <td>1.074380</td>\n",
       "      <td>-0.492199</td>\n",
       "      <td>0.948934</td>\n",
       "      <td>0.428118</td>\n",
       "      <td>1.120631</td>\n",
       "      <td>-3.807864</td>\n",
       "      <td>0.615375</td>\n",
       "      <td>...</td>\n",
       "      <td>1.943465</td>\n",
       "      <td>-1.015455</td>\n",
       "      <td>0.057504</td>\n",
       "      <td>-0.649709</td>\n",
       "      <td>-0.415267</td>\n",
       "      <td>-0.051634</td>\n",
       "      <td>-1.206921</td>\n",
       "      <td>-1.085339</td>\n",
       "      <td>40.80</td>\n",
       "      <td>0</td>\n",
       "    </tr>\n",
       "    <tr>\n",
       "      <th>8</th>\n",
       "      <td>7.0</td>\n",
       "      <td>-0.894286</td>\n",
       "      <td>0.286157</td>\n",
       "      <td>-0.113192</td>\n",
       "      <td>-0.271526</td>\n",
       "      <td>2.669599</td>\n",
       "      <td>3.721818</td>\n",
       "      <td>0.370145</td>\n",
       "      <td>0.851084</td>\n",
       "      <td>-0.392048</td>\n",
       "      <td>...</td>\n",
       "      <td>-0.073425</td>\n",
       "      <td>-0.268092</td>\n",
       "      <td>-0.204233</td>\n",
       "      <td>1.011592</td>\n",
       "      <td>0.373205</td>\n",
       "      <td>-0.384157</td>\n",
       "      <td>0.011747</td>\n",
       "      <td>0.142404</td>\n",
       "      <td>93.20</td>\n",
       "      <td>0</td>\n",
       "    </tr>\n",
       "    <tr>\n",
       "      <th>9</th>\n",
       "      <td>9.0</td>\n",
       "      <td>-0.338262</td>\n",
       "      <td>1.119593</td>\n",
       "      <td>1.044367</td>\n",
       "      <td>-0.222187</td>\n",
       "      <td>0.499361</td>\n",
       "      <td>-0.246761</td>\n",
       "      <td>0.651583</td>\n",
       "      <td>0.069539</td>\n",
       "      <td>-0.736727</td>\n",
       "      <td>...</td>\n",
       "      <td>-0.246914</td>\n",
       "      <td>-0.633753</td>\n",
       "      <td>-0.120794</td>\n",
       "      <td>-0.385050</td>\n",
       "      <td>-0.069733</td>\n",
       "      <td>0.094199</td>\n",
       "      <td>0.246219</td>\n",
       "      <td>0.083076</td>\n",
       "      <td>3.68</td>\n",
       "      <td>0</td>\n",
       "    </tr>\n",
       "  </tbody>\n",
       "</table>\n",
       "<p>10 rows × 31 columns</p>\n",
       "</div>"
      ],
      "text/plain": [
       "   Time        V1        V2        V3        V4        V5        V6        V7  \\\n",
       "0   0.0 -1.359807 -0.072781  2.536347  1.378155 -0.338321  0.462388  0.239599   \n",
       "1   0.0  1.191857  0.266151  0.166480  0.448154  0.060018 -0.082361 -0.078803   \n",
       "2   1.0 -1.358354 -1.340163  1.773209  0.379780 -0.503198  1.800499  0.791461   \n",
       "3   1.0 -0.966272 -0.185226  1.792993 -0.863291 -0.010309  1.247203  0.237609   \n",
       "4   2.0 -1.158233  0.877737  1.548718  0.403034 -0.407193  0.095921  0.592941   \n",
       "5   2.0 -0.425966  0.960523  1.141109 -0.168252  0.420987 -0.029728  0.476201   \n",
       "6   4.0  1.229658  0.141004  0.045371  1.202613  0.191881  0.272708 -0.005159   \n",
       "7   7.0 -0.644269  1.417964  1.074380 -0.492199  0.948934  0.428118  1.120631   \n",
       "8   7.0 -0.894286  0.286157 -0.113192 -0.271526  2.669599  3.721818  0.370145   \n",
       "9   9.0 -0.338262  1.119593  1.044367 -0.222187  0.499361 -0.246761  0.651583   \n",
       "\n",
       "         V8        V9  ...       V21       V22       V23       V24       V25  \\\n",
       "0  0.098698  0.363787  ... -0.018307  0.277838 -0.110474  0.066928  0.128539   \n",
       "1  0.085102 -0.255425  ... -0.225775 -0.638672  0.101288 -0.339846  0.167170   \n",
       "2  0.247676 -1.514654  ...  0.247998  0.771679  0.909412 -0.689281 -0.327642   \n",
       "3  0.377436 -1.387024  ... -0.108300  0.005274 -0.190321 -1.175575  0.647376   \n",
       "4 -0.270533  0.817739  ... -0.009431  0.798278 -0.137458  0.141267 -0.206010   \n",
       "5  0.260314 -0.568671  ... -0.208254 -0.559825 -0.026398 -0.371427 -0.232794   \n",
       "6  0.081213  0.464960  ... -0.167716 -0.270710 -0.154104 -0.780055  0.750137   \n",
       "7 -3.807864  0.615375  ...  1.943465 -1.015455  0.057504 -0.649709 -0.415267   \n",
       "8  0.851084 -0.392048  ... -0.073425 -0.268092 -0.204233  1.011592  0.373205   \n",
       "9  0.069539 -0.736727  ... -0.246914 -0.633753 -0.120794 -0.385050 -0.069733   \n",
       "\n",
       "        V26       V27       V28  Amount  Class  \n",
       "0 -0.189115  0.133558 -0.021053  149.62      0  \n",
       "1  0.125895 -0.008983  0.014724    2.69      0  \n",
       "2 -0.139097 -0.055353 -0.059752  378.66      0  \n",
       "3 -0.221929  0.062723  0.061458  123.50      0  \n",
       "4  0.502292  0.219422  0.215153   69.99      0  \n",
       "5  0.105915  0.253844  0.081080    3.67      0  \n",
       "6 -0.257237  0.034507  0.005168    4.99      0  \n",
       "7 -0.051634 -1.206921 -1.085339   40.80      0  \n",
       "8 -0.384157  0.011747  0.142404   93.20      0  \n",
       "9  0.094199  0.246219  0.083076    3.68      0  \n",
       "\n",
       "[10 rows x 31 columns]"
      ]
     },
     "execution_count": 2,
     "metadata": {},
     "output_type": "execute_result"
    }
   ],
   "source": [
    "# All column names are secured\n",
    "df = pd.read_csv('creditcard.csv')\n",
    "df.head(10)"
   ]
  },
  {
   "cell_type": "code",
   "execution_count": 3,
   "id": "9e948665",
   "metadata": {},
   "outputs": [
    {
     "name": "stdout",
     "output_type": "stream",
     "text": [
      "Total observations: 284807\n",
      "Fraud: 492 (0.17% of the Total)\n",
      "\n"
     ]
    }
   ],
   "source": [
    "neg, pos = np.bincount(df['Class'])\n",
    "total = neg + pos\n",
    "print('Total observations: {}\\nFraud: {} ({:.2f}% of the Total)\\n'.format(total, pos, 100 * pos / total))"
   ]
  },
  {
   "cell_type": "code",
   "execution_count": 4,
   "id": "e383534d",
   "metadata": {},
   "outputs": [
    {
     "data": {
      "image/png": "[encoded data removed]",
      "text/plain": [
       "<Figure size 432x288 with 1 Axes>"
      ]
     },
     "metadata": {},
     "output_type": "display_data"
    }
   ],
   "source": [
    "sns.countplot('Class', data=df)\n",
    "plt.title('Class Distributions \\n (0: No Fraud || 1: Fraud)', fontsize=14)\n",
    "plt.show()"
   ]
  },
  {
   "cell_type": "code",
   "execution_count": 5,
   "id": "83dce41b",
   "metadata": {},
   "outputs": [
    {
     "data": {
      "image/png": "[encoded data removed]",
      "text/plain": [
       "<Figure size 864x288 with 2 Axes>"
      ]
     },
     "metadata": {},
     "output_type": "display_data"
    }
   ],
   "source": [
    "# Fraud is relatively uniformly distributed\n",
    "# Time might be not big deal\n",
    "f, (ax1, ax2) = plt.subplots(2, 1, sharex=True, figsize=(12,4))\n",
    "\n",
    "bins = 30\n",
    "\n",
    "ax1.hist(df.Time[df.Class == 1], bins = bins)\n",
    "ax1.set_title('Fraud')\n",
    "\n",
    "ax2.hist(df.Time[df.Class == 0], bins = bins)\n",
    "ax2.set_title('Negative')\n",
    "\n",
    "plt.xlabel('Time')\n",
    "plt.ylabel('Number of Transactions')\n",
    "plt.yscale('log')\n",
    "plt.show()"
   ]
  },
  {
   "cell_type": "code",
   "execution_count": 6,
   "id": "246e8205",
   "metadata": {},
   "outputs": [
    {
     "data": {
      "image/png": "[encoded data removed]",
      "text/plain": [
       "<Figure size 864x288 with 2 Axes>"
      ]
     },
     "metadata": {},
     "output_type": "display_data"
    }
   ],
   "source": [
    "# Low Amount transactions are more likely to be considered as fraud transactions\n",
    "f, (ax1, ax2) = plt.subplots(2, 1, sharex=True, figsize=(12,4))\n",
    "\n",
    "bins = 30\n",
    "ax1.hist(df.Amount[df.Class == 1], bins = bins)\n",
    "ax1.set_title('Fraud')\n",
    "\n",
    "ax2.hist(df.Amount[df.Class == 0], bins = bins)\n",
    "ax2.set_title('Negative')\n",
    "\n",
    "plt.xlabel('Amount')\n",
    "plt.ylabel('Number of Transactions')\n",
    "plt.yscale('log')\n",
    "plt.show()"
   ]
  },
  {
   "cell_type": "code",
   "execution_count": 7,
   "id": "3f31e37b",
   "metadata": {},
   "outputs": [
    {
     "data": {
      "text/plain": [
       "False"
      ]
     },
     "execution_count": 7,
     "metadata": {},
     "output_type": "execute_result"
    }
   ],
   "source": [
    "df.isnull().values.any()"
   ]
  },
  {
   "cell_type": "code",
   "execution_count": 8,
   "id": "070ca29b",
   "metadata": {},
   "outputs": [],
   "source": [
    "from tensorflow import keras\n",
    "from keras.models import Model, load_model\n",
    "from keras.layers import Input, Dense\n",
    "from keras.callbacks import ModelCheckpoint, TensorBoard\n",
    "from keras import regularizers\n",
    "from sklearn.preprocessing import StandardScaler\n",
    "from sklearn.model_selection import train_test_split\n",
    "from sklearn.metrics import f1_score, confusion_matrix, classification_report, recall_score\n",
    "import matplotlib.gridspec as gridspec"
   ]
  },
  {
   "cell_type": "code",
   "execution_count": 9,
   "id": "a0ff2713",
   "metadata": {},
   "outputs": [],
   "source": [
    "df['Amount'] = StandardScaler().fit_transform(df['Amount'].values.reshape(-1, 1))\n",
    "df0 = df.query('Class == 0').sample(10000)\n",
    "df1 = df.query('Class == 1')\n",
    "df_under = pd.concat([df0, df1])"
   ]
  },
  {
   "cell_type": "code",
   "execution_count": 10,
   "id": "be27e25c",
   "metadata": {},
   "outputs": [
    {
     "data": {
      "text/plain": [
       "(10492, 31)"
      ]
     },
     "execution_count": 10,
     "metadata": {},
     "output_type": "execute_result"
    }
   ],
   "source": [
    "df_under.shape"
   ]
  },
  {
   "cell_type": "code",
   "execution_count": 11,
   "id": "44aa6541",
   "metadata": {},
   "outputs": [],
   "source": [
    "X = df_under.iloc[:,:-1]\n",
    "y = df_under['Class']"
   ]
  },
  {
   "cell_type": "code",
   "execution_count": 12,
   "id": "e8280958",
   "metadata": {},
   "outputs": [],
   "source": [
    "X = X.drop(['Time'], axis=1)"
   ]
  },
  {
   "cell_type": "code",
   "execution_count": 13,
   "id": "62f4faee",
   "metadata": {},
   "outputs": [],
   "source": [
    "X['Amount'] = StandardScaler().fit_transform(X['Amount'].values.reshape(-1,1))"
   ]
  },
  {
   "cell_type": "code",
   "execution_count": 14,
   "id": "071cf4fe",
   "metadata": {},
   "outputs": [],
   "source": [
    "# 6 : 2 : 2\n",
    "X_train, X_test, y_train, y_test = train_test_split(X, y,\n",
    "                                                   test_size = 0.4, random_state=0)\n",
    "X_val, X_test, y_val, y_test = train_test_split(X_test, y_test,\n",
    "                                                   test_size = 0.5, random_state=0)"
   ]
  },
  {
   "cell_type": "code",
   "execution_count": 15,
   "id": "d720717d",
   "metadata": {},
   "outputs": [],
   "source": [
    "# 입력값 x를 받아서 다시 입력값 x를 결과로 뱉어내는 함수'가 바로 Autoencoder 신경망"
   ]
  },
  {
   "cell_type": "code",
   "execution_count": 16,
   "id": "c16acfad",
   "metadata": {},
   "outputs": [],
   "source": [
    "# 우리가 특정한 데이터의 압축된 표상(representation)을 학습시키고 그 구조(structure)를 찾고 싶어한다는 점이 중요합니다. \n",
    "# 이것은 모델 안에 있는 은닉 유닛(hidden unit)의 수를 제한하는 방법을 통해 가능합니다. \n",
    "# 이런 종류의 autoencoder들은 미완성(undercomplete) 이라 불립니다."
   ]
  },
  {
   "cell_type": "code",
   "execution_count": 28,
   "id": "d4a7b387",
   "metadata": {},
   "outputs": [],
   "source": [
    "input_dim = X_train.shape[1]\n",
    "encoding_dim = 24\n",
    "\n",
    "input_layer = Input(shape=(input_dim, ))\n",
    "\n",
    "encoder = Dense(encoding_dim, activation=\"relu\",  # 24\n",
    "                activity_regularizer=regularizers.l1(10e-5))(input_layer)\n",
    "encoder = Dense(int(encoding_dim / 2), activation=\"relu\")(encoder) # 12\n",
    "encoder = Dense(int(encoding_dim / 2), activation=\"relu\")(encoder) # 6\n",
    "decoder = Dense(int(encoding_dim * 2), activation='relu')(encoder) # 12\n",
    "decoder = Dense(input_dim, activation='relu')(decoder) # 24\n",
    "autoencoder = Model(inputs=input_layer, outputs=decoder)"
   ]
  },
  {
   "cell_type": "code",
   "execution_count": 36,
   "id": "2d87bc51",
   "metadata": {},
   "outputs": [
    {
     "name": "stderr",
     "output_type": "stream",
     "text": [
      "2022-06-02 13:22:34.797956: I tensorflow/core/profiler/lib/profiler_session.cc:131] Profiler session initializing.\n",
      "2022-06-02 13:22:34.797984: I tensorflow/core/profiler/lib/profiler_session.cc:146] Profiler session started.\n",
      "2022-06-02 13:22:34.798095: I tensorflow/core/profiler/lib/profiler_session.cc:164] Profiler session tear down.\n"
     ]
    },
    {
     "name": "stdout",
     "output_type": "stream",
     "text": [
      "Epoch 1/50\n",
      "204/394 [==============>...............] - ETA: 0s - loss: 1.9301 - accuracy: 0.6795 - mae: 0.5829"
     ]
    },
    {
     "name": "stderr",
     "output_type": "stream",
     "text": [
      "2022-06-02 13:22:35.239121: I tensorflow/core/profiler/lib/profiler_session.cc:131] Profiler session initializing.\n",
      "2022-06-02 13:22:35.239143: I tensorflow/core/profiler/lib/profiler_session.cc:146] Profiler session started.\n",
      "2022-06-02 13:22:35.268552: I tensorflow/core/profiler/lib/profiler_session.cc:66] Profiler session collecting data.\n",
      "2022-06-02 13:22:35.269548: I tensorflow/core/profiler/lib/profiler_session.cc:164] Profiler session tear down.\n",
      "2022-06-02 13:22:35.270542: I tensorflow/core/profiler/rpc/client/save_profile.cc:136] Creating directory: ./logs/train/plugins/profile/2022_06_02_13_22_35\n",
      "\n",
      "2022-06-02 13:22:35.271419: I tensorflow/core/profiler/rpc/client/save_profile.cc:142] Dumped gzipped tool data for trace.json.gz to ./logs/train/plugins/profile/2022_06_02_13_22_35/Ming9ui-MacBookPro.local.trace.json.gz\n",
      "2022-06-02 13:22:35.272679: I tensorflow/core/profiler/rpc/client/save_profile.cc:136] Creating directory: ./logs/train/plugins/profile/2022_06_02_13_22_35\n",
      "\n",
      "2022-06-02 13:22:35.272928: I tensorflow/core/profiler/rpc/client/save_profile.cc:142] Dumped gzipped tool data for memory_profile.json.gz to ./logs/train/plugins/profile/2022_06_02_13_22_35/Ming9ui-MacBookPro.local.memory_profile.json.gz\n",
      "2022-06-02 13:22:35.273950: I tensorflow/core/profiler/rpc/client/capture_profile.cc:251] Creating directory: ./logs/train/plugins/profile/2022_06_02_13_22_35\n",
      "Dumped tool data for xplane.pb to ./logs/train/plugins/profile/2022_06_02_13_22_35/Ming9ui-MacBookPro.local.xplane.pb\n",
      "Dumped tool data for overview_page.pb to ./logs/train/plugins/profile/2022_06_02_13_22_35/Ming9ui-MacBookPro.local.overview_page.pb\n",
      "Dumped tool data for input_pipeline.pb to ./logs/train/plugins/profile/2022_06_02_13_22_35/Ming9ui-MacBookPro.local.input_pipeline.pb\n",
      "Dumped tool data for tensorflow_stats.pb to ./logs/train/plugins/profile/2022_06_02_13_22_35/Ming9ui-MacBookPro.local.tensorflow_stats.pb\n",
      "Dumped tool data for kernel_stats.pb to ./logs/train/plugins/profile/2022_06_02_13_22_35/Ming9ui-MacBookPro.local.kernel_stats.pb\n",
      "\n"
     ]
    },
    {
     "name": "stdout",
     "output_type": "stream",
     "text": [
      "394/394 [==============================] - 1s 1ms/step - loss: 1.8497 - accuracy: 0.6864 - mae: 0.5786 - val_loss: 1.7807 - val_accuracy: 0.7050 - val_mae: 0.5780\n",
      "Epoch 2/50\n",
      "394/394 [==============================] - 0s 953us/step - loss: 1.8439 - accuracy: 0.6864 - mae: 0.5758 - val_loss: 1.7677 - val_accuracy: 0.7083 - val_mae: 0.5728\n",
      "Epoch 3/50\n",
      "394/394 [==============================] - 0s 927us/step - loss: 1.8337 - accuracy: 0.7028 - mae: 0.5717 - val_loss: 1.7597 - val_accuracy: 0.7493 - val_mae: 0.5681\n",
      "Epoch 4/50\n",
      "394/394 [==============================] - 0s 983us/step - loss: 1.8283 - accuracy: 0.7339 - mae: 0.5679 - val_loss: 1.7564 - val_accuracy: 0.7560 - val_mae: 0.5656\n",
      "Epoch 5/50\n",
      "394/394 [==============================] - 0s 1ms/step - loss: 1.8277 - accuracy: 0.7384 - mae: 0.5674 - val_loss: 1.7545 - val_accuracy: 0.7612 - val_mae: 0.5648\n",
      "Epoch 6/50\n",
      "394/394 [==============================] - 0s 916us/step - loss: 1.8222 - accuracy: 0.7643 - mae: 0.5625 - val_loss: 1.7498 - val_accuracy: 0.7807 - val_mae: 0.5592\n",
      "Epoch 7/50\n",
      "394/394 [==============================] - 0s 1ms/step - loss: 1.8211 - accuracy: 0.7603 - mae: 0.5613 - val_loss: 1.7510 - val_accuracy: 0.7817 - val_mae: 0.5596\n",
      "Epoch 8/50\n",
      "394/394 [==============================] - 0s 910us/step - loss: 1.8194 - accuracy: 0.7684 - mae: 0.5598 - val_loss: 1.7497 - val_accuracy: 0.7717 - val_mae: 0.5601\n",
      "Epoch 9/50\n",
      "394/394 [==============================] - 0s 927us/step - loss: 1.8193 - accuracy: 0.7765 - mae: 0.5598 - val_loss: 1.7517 - val_accuracy: 0.7674 - val_mae: 0.5621\n",
      "Epoch 10/50\n",
      "394/394 [==============================] - 0s 1ms/step - loss: 1.8182 - accuracy: 0.7778 - mae: 0.5582 - val_loss: 1.7489 - val_accuracy: 0.7822 - val_mae: 0.5589\n",
      "Epoch 11/50\n",
      "394/394 [==============================] - 0s 1ms/step - loss: 1.8177 - accuracy: 0.7759 - mae: 0.5580 - val_loss: 1.7463 - val_accuracy: 0.7912 - val_mae: 0.5553\n",
      "Epoch 12/50\n",
      "394/394 [==============================] - 0s 1ms/step - loss: 1.8175 - accuracy: 0.7824 - mae: 0.5575 - val_loss: 1.7460 - val_accuracy: 0.7955 - val_mae: 0.5551\n",
      "Epoch 13/50\n",
      "394/394 [==============================] - 0s 1ms/step - loss: 1.8159 - accuracy: 0.7836 - mae: 0.5559 - val_loss: 1.7452 - val_accuracy: 0.7993 - val_mae: 0.5540\n",
      "Epoch 14/50\n",
      "394/394 [==============================] - 0s 1ms/step - loss: 1.8157 - accuracy: 0.7849 - mae: 0.5558 - val_loss: 1.7565 - val_accuracy: 0.7598 - val_mae: 0.5684\n",
      "Epoch 15/50\n",
      "394/394 [==============================] - 0s 1ms/step - loss: 1.8155 - accuracy: 0.7833 - mae: 0.5557 - val_loss: 1.7441 - val_accuracy: 0.7960 - val_mae: 0.5541\n",
      "Epoch 16/50\n",
      "394/394 [==============================] - 0s 1ms/step - loss: 1.8144 - accuracy: 0.7844 - mae: 0.5546 - val_loss: 1.7471 - val_accuracy: 0.7922 - val_mae: 0.5563\n",
      "Epoch 17/50\n",
      "394/394 [==============================] - 0s 1ms/step - loss: 1.8146 - accuracy: 0.7884 - mae: 0.5548 - val_loss: 1.7443 - val_accuracy: 0.7903 - val_mae: 0.5541\n",
      "Epoch 18/50\n",
      "394/394 [==============================] - 0s 1ms/step - loss: 1.8138 - accuracy: 0.7894 - mae: 0.5539 - val_loss: 1.7443 - val_accuracy: 0.8008 - val_mae: 0.5532\n",
      "Epoch 19/50\n",
      "394/394 [==============================] - 0s 994us/step - loss: 1.8135 - accuracy: 0.7930 - mae: 0.5534 - val_loss: 1.7423 - val_accuracy: 0.7998 - val_mae: 0.5508\n",
      "Epoch 20/50\n",
      "394/394 [==============================] - 0s 1ms/step - loss: 1.8136 - accuracy: 0.7900 - mae: 0.5534 - val_loss: 1.7437 - val_accuracy: 0.7950 - val_mae: 0.5532\n",
      "Epoch 21/50\n",
      "394/394 [==============================] - 0s 1ms/step - loss: 1.8124 - accuracy: 0.7965 - mae: 0.5522 - val_loss: 1.7436 - val_accuracy: 0.8070 - val_mae: 0.5526\n",
      "Epoch 22/50\n",
      "394/394 [==============================] - 0s 1ms/step - loss: 1.8147 - accuracy: 0.7879 - mae: 0.5545 - val_loss: 1.7412 - val_accuracy: 0.7974 - val_mae: 0.5512\n",
      "Epoch 23/50\n",
      "394/394 [==============================] - 0s 1ms/step - loss: 1.8110 - accuracy: 0.8025 - mae: 0.5508 - val_loss: 1.7437 - val_accuracy: 0.8074 - val_mae: 0.5513\n",
      "Epoch 24/50\n",
      "394/394 [==============================] - 0s 1ms/step - loss: 1.8109 - accuracy: 0.7976 - mae: 0.5505 - val_loss: 1.7424 - val_accuracy: 0.7993 - val_mae: 0.5515\n",
      "Epoch 25/50\n",
      "394/394 [==============================] - 0s 1ms/step - loss: 1.8108 - accuracy: 0.7990 - mae: 0.5504 - val_loss: 1.7411 - val_accuracy: 0.8051 - val_mae: 0.5505\n",
      "Epoch 26/50\n",
      "394/394 [==============================] - 0s 1ms/step - loss: 1.8102 - accuracy: 0.8005 - mae: 0.5498 - val_loss: 1.7454 - val_accuracy: 0.7941 - val_mae: 0.5553\n",
      "Epoch 27/50\n",
      "394/394 [==============================] - 0s 1ms/step - loss: 1.8105 - accuracy: 0.8017 - mae: 0.5502 - val_loss: 1.7404 - val_accuracy: 0.8060 - val_mae: 0.5489\n",
      "Epoch 28/50\n",
      "394/394 [==============================] - 0s 1ms/step - loss: 1.8100 - accuracy: 0.8011 - mae: 0.5496 - val_loss: 1.7401 - val_accuracy: 0.8060 - val_mae: 0.5496\n",
      "Epoch 29/50\n",
      "394/394 [==============================] - 0s 986us/step - loss: 1.8099 - accuracy: 0.8052 - mae: 0.5495 - val_loss: 1.7401 - val_accuracy: 0.8060 - val_mae: 0.5488\n",
      "Epoch 30/50\n",
      "394/394 [==============================] - 0s 1ms/step - loss: 1.8133 - accuracy: 0.7935 - mae: 0.5525 - val_loss: 1.7587 - val_accuracy: 0.7989 - val_mae: 0.5588\n",
      "Epoch 31/50\n",
      "394/394 [==============================] - 0s 1ms/step - loss: 1.8147 - accuracy: 0.7917 - mae: 0.5529 - val_loss: 1.7455 - val_accuracy: 0.8103 - val_mae: 0.5531\n",
      "Epoch 32/50\n",
      "394/394 [==============================] - 0s 968us/step - loss: 1.8101 - accuracy: 0.7998 - mae: 0.5492 - val_loss: 1.7395 - val_accuracy: 0.8027 - val_mae: 0.5478\n",
      "Epoch 33/50\n",
      "394/394 [==============================] - 0s 980us/step - loss: 1.8082 - accuracy: 0.8056 - mae: 0.5473 - val_loss: 1.7376 - val_accuracy: 0.8260 - val_mae: 0.5449\n",
      "Epoch 34/50\n",
      "394/394 [==============================] - 0s 1ms/step - loss: 1.8101 - accuracy: 0.7938 - mae: 0.5498 - val_loss: 1.7392 - val_accuracy: 0.8198 - val_mae: 0.5468\n",
      "Epoch 35/50\n",
      "394/394 [==============================] - 0s 1ms/step - loss: 1.8084 - accuracy: 0.8041 - mae: 0.5474 - val_loss: 1.7396 - val_accuracy: 0.8065 - val_mae: 0.5494\n",
      "Epoch 36/50\n",
      "394/394 [==============================] - 0s 1ms/step - loss: 1.8075 - accuracy: 0.8059 - mae: 0.5467 - val_loss: 1.7395 - val_accuracy: 0.8255 - val_mae: 0.5472\n",
      "Epoch 37/50\n",
      "394/394 [==============================] - 0s 1ms/step - loss: 1.8081 - accuracy: 0.8070 - mae: 0.5473 - val_loss: 1.7395 - val_accuracy: 0.8098 - val_mae: 0.5477\n",
      "Epoch 38/50\n",
      "394/394 [==============================] - 0s 1ms/step - loss: 1.8076 - accuracy: 0.8097 - mae: 0.5468 - val_loss: 1.7376 - val_accuracy: 0.8179 - val_mae: 0.5465\n",
      "Epoch 39/50\n",
      "394/394 [==============================] - 0s 1ms/step - loss: 1.8070 - accuracy: 0.8038 - mae: 0.5463 - val_loss: 1.7380 - val_accuracy: 0.8079 - val_mae: 0.5471\n",
      "Epoch 40/50\n",
      "394/394 [==============================] - 0s 986us/step - loss: 1.8078 - accuracy: 0.8073 - mae: 0.5469 - val_loss: 1.7392 - val_accuracy: 0.8146 - val_mae: 0.5489\n",
      "Epoch 41/50\n",
      "394/394 [==============================] - 0s 1ms/step - loss: 1.8069 - accuracy: 0.8065 - mae: 0.5464 - val_loss: 1.7379 - val_accuracy: 0.8074 - val_mae: 0.5460\n",
      "Epoch 42/50\n",
      "394/394 [==============================] - 0s 968us/step - loss: 1.8070 - accuracy: 0.8071 - mae: 0.5462 - val_loss: 1.7379 - val_accuracy: 0.8174 - val_mae: 0.5461\n",
      "Epoch 43/50\n",
      "394/394 [==============================] - 0s 996us/step - loss: 1.8071 - accuracy: 0.8046 - mae: 0.5463 - val_loss: 1.7365 - val_accuracy: 0.8317 - val_mae: 0.5443\n",
      "Epoch 44/50\n",
      "394/394 [==============================] - 0s 1ms/step - loss: 1.8067 - accuracy: 0.8084 - mae: 0.5462 - val_loss: 1.7373 - val_accuracy: 0.8074 - val_mae: 0.5450\n",
      "Epoch 45/50\n",
      "394/394 [==============================] - 0s 1ms/step - loss: 1.8065 - accuracy: 0.8127 - mae: 0.5454 - val_loss: 1.7360 - val_accuracy: 0.8303 - val_mae: 0.5432\n",
      "Epoch 46/50\n",
      "394/394 [==============================] - 0s 1ms/step - loss: 1.8076 - accuracy: 0.8051 - mae: 0.5465 - val_loss: 1.7356 - val_accuracy: 0.8184 - val_mae: 0.5438\n",
      "Epoch 47/50\n",
      "394/394 [==============================] - 0s 974us/step - loss: 1.8055 - accuracy: 0.8103 - mae: 0.5444 - val_loss: 1.7355 - val_accuracy: 0.8179 - val_mae: 0.5443\n"
     ]
    },
    {
     "name": "stdout",
     "output_type": "stream",
     "text": [
      "Epoch 48/50\n",
      "394/394 [==============================] - 0s 956us/step - loss: 1.8049 - accuracy: 0.8102 - mae: 0.5441 - val_loss: 1.7359 - val_accuracy: 0.8251 - val_mae: 0.5438\n",
      "Epoch 49/50\n",
      "394/394 [==============================] - 0s 968us/step - loss: 1.8061 - accuracy: 0.8032 - mae: 0.5453 - val_loss: 1.7444 - val_accuracy: 0.7726 - val_mae: 0.5563\n",
      "Epoch 50/50\n",
      "394/394 [==============================] - 0s 926us/step - loss: 1.8074 - accuracy: 0.8048 - mae: 0.5466 - val_loss: 1.7363 - val_accuracy: 0.8198 - val_mae: 0.5452\n"
     ]
    }
   ],
   "source": [
    "nb_epoch = 50\n",
    "batch_size = 16\n",
    "autoencoder.compile(optimizer='adam', \n",
    "                    loss='mean_squared_error', \n",
    "                    metrics=['accuracy','mae'])\n",
    "checkpointer = ModelCheckpoint(filepath=\"model.h5\",\n",
    "                               verbose=0,\n",
    "                               save_best_only=True)\n",
    "tensorboard = TensorBoard(log_dir='./logs',\n",
    "                          histogram_freq=0,\n",
    "                          write_graph=True,\n",
    "                          write_images=True)\n",
    "history = autoencoder.fit(X_train, X_train,\n",
    "                    epochs=nb_epoch,\n",
    "                    batch_size=batch_size,\n",
    "                    shuffle=True,\n",
    "                    validation_data=(X_val, X_val),\n",
    "                    verbose=1,\n",
    "                    callbacks=[checkpointer, tensorboard]).history"
   ]
  },
  {
   "cell_type": "code",
   "execution_count": 37,
   "id": "adcbd636",
   "metadata": {},
   "outputs": [],
   "source": [
    "autoencoder = load_model('model.h5')"
   ]
  },
  {
   "cell_type": "code",
   "execution_count": 38,
   "id": "3b5eb018",
   "metadata": {},
   "outputs": [
    {
     "data": {
      "image/png": "[encoded data removed]",
      "text/plain": [
       "<Figure size 432x288 with 1 Axes>"
      ]
     },
     "metadata": {},
     "output_type": "display_data"
    }
   ],
   "source": [
    "plt.plot(history['loss'])\n",
    "plt.plot(history['val_loss'])\n",
    "plt.title('model loss')\n",
    "plt.ylabel('loss')\n",
    "plt.xlabel('epoch')\n",
    "plt.legend(['train', 'val'], loc='upper right');"
   ]
  },
  {
   "cell_type": "code",
   "execution_count": 39,
   "id": "473bc9df",
   "metadata": {},
   "outputs": [
    {
     "data": {
      "text/html": [
       "<div>\n",
       "<style scoped>\n",
       "    .dataframe tbody tr th:only-of-type {\n",
       "        vertical-align: middle;\n",
       "    }\n",
       "\n",
       "    .dataframe tbody tr th {\n",
       "        vertical-align: top;\n",
       "    }\n",
       "\n",
       "    .dataframe thead th {\n",
       "        text-align: right;\n",
       "    }\n",
       "</style>\n",
       "<table border=\"1\" class=\"dataframe\">\n",
       "  <thead>\n",
       "    <tr style=\"text-align: right;\">\n",
       "      <th></th>\n",
       "      <th>reconstruction_error</th>\n",
       "      <th>true_class</th>\n",
       "    </tr>\n",
       "  </thead>\n",
       "  <tbody>\n",
       "    <tr>\n",
       "      <th>count</th>\n",
       "      <td>2099.000000</td>\n",
       "      <td>2099.000000</td>\n",
       "    </tr>\n",
       "    <tr>\n",
       "      <th>mean</th>\n",
       "      <td>1.662933</td>\n",
       "      <td>0.043354</td>\n",
       "    </tr>\n",
       "    <tr>\n",
       "      <th>std</th>\n",
       "      <td>9.893446</td>\n",
       "      <td>0.203701</td>\n",
       "    </tr>\n",
       "    <tr>\n",
       "      <th>min</th>\n",
       "      <td>0.039263</td>\n",
       "      <td>0.000000</td>\n",
       "    </tr>\n",
       "    <tr>\n",
       "      <th>25%</th>\n",
       "      <td>0.215040</td>\n",
       "      <td>0.000000</td>\n",
       "    </tr>\n",
       "    <tr>\n",
       "      <th>50%</th>\n",
       "      <td>0.370306</td>\n",
       "      <td>0.000000</td>\n",
       "    </tr>\n",
       "    <tr>\n",
       "      <th>75%</th>\n",
       "      <td>0.597679</td>\n",
       "      <td>0.000000</td>\n",
       "    </tr>\n",
       "    <tr>\n",
       "      <th>max</th>\n",
       "      <td>303.121506</td>\n",
       "      <td>1.000000</td>\n",
       "    </tr>\n",
       "  </tbody>\n",
       "</table>\n",
       "</div>"
      ],
      "text/plain": [
       "       reconstruction_error   true_class\n",
       "count           2099.000000  2099.000000\n",
       "mean               1.662933     0.043354\n",
       "std                9.893446     0.203701\n",
       "min                0.039263     0.000000\n",
       "25%                0.215040     0.000000\n",
       "50%                0.370306     0.000000\n",
       "75%                0.597679     0.000000\n",
       "max              303.121506     1.000000"
      ]
     },
     "execution_count": 39,
     "metadata": {},
     "output_type": "execute_result"
    }
   ],
   "source": [
    "predictions = autoencoder.predict(X_test)\n",
    "mse = np.mean(np.power(X_test - predictions, 2), axis=1)\n",
    "error_df = pd.DataFrame({'reconstruction_error': mse,\n",
    "                        'true_class': y_test})\n",
    "error_df.describe()"
   ]
  },
  {
   "cell_type": "code",
   "execution_count": 40,
   "id": "c7790eaa",
   "metadata": {},
   "outputs": [
    {
     "data": {
      "image/png": "[encoded data removed]",
      "text/plain": [
       "<Figure size 432x288 with 1 Axes>"
      ]
     },
     "metadata": {},
     "output_type": "display_data"
    }
   ],
   "source": [
    "# normal datas\n",
    "fig = plt.figure()\n",
    "ax = fig.add_subplot(111)\n",
    "normal_error_df = error_df[(error_df['true_class']== 0) & (error_df['reconstruction_error'] < 10)]\n",
    "_ = ax.hist(normal_error_df.reconstruction_error.values, bins=10)"
   ]
  },
  {
   "cell_type": "code",
   "execution_count": 41,
   "id": "8d0cbae4",
   "metadata": {},
   "outputs": [
    {
     "data": {
      "image/png": "[encoded data removed]",
      "text/plain": [
       "<Figure size 432x288 with 1 Axes>"
      ]
     },
     "metadata": {},
     "output_type": "display_data"
    }
   ],
   "source": [
    "# anomalies\n",
    "fig = plt.figure()\n",
    "ax = fig.add_subplot(111)\n",
    "fraud_error_df = error_df[error_df['true_class'] == 1]\n",
    "_ = ax.hist(fraud_error_df.reconstruction_error.values, bins=10)"
   ]
  },
  {
   "cell_type": "code",
   "execution_count": 42,
   "id": "6a3f0d1a",
   "metadata": {},
   "outputs": [],
   "source": [
    "threshold = 1.0"
   ]
  },
  {
   "cell_type": "code",
   "execution_count": 43,
   "id": "970b17f2",
   "metadata": {},
   "outputs": [
    {
     "data": {
      "image/png": "[encoded data removed]",
      "text/plain": [
       "<Figure size 432x288 with 1 Axes>"
      ]
     },
     "metadata": {},
     "output_type": "display_data"
    }
   ],
   "source": [
    "groups = error_df.groupby('true_class')\n",
    "fig, ax = plt.subplots()\n",
    "\n",
    "for name, group in groups:\n",
    "    ax.plot(group.index, group.reconstruction_error, marker='o', ms=3.5, linestyle='',\n",
    "            label= \"Fraud\" if name == 1 else \"Normal\")\n",
    "ax.hlines(threshold, ax.get_xlim()[0], ax.get_xlim()[1], colors=\"r\", zorder=100, label='Threshold')\n",
    "ax.legend()\n",
    "plt.title(\"Reconstruction error for different classes\")\n",
    "plt.ylabel(\"Reconstruction error\")\n",
    "plt.xlabel(\"Data point index\")\n",
    "plt.show();"
   ]
  },
  {
   "cell_type": "code",
   "execution_count": 44,
   "id": "7d22ee39",
   "metadata": {},
   "outputs": [
    {
     "data": {
      "image/png": "[encoded data removed]",
      "text/plain": [
       "<Figure size 864x864 with 2 Axes>"
      ]
     },
     "metadata": {},
     "output_type": "display_data"
    }
   ],
   "source": [
    "y_pred = [1 if e > threshold else 0 for e in error_df.reconstruction_error.values]\n",
    "conf_matrix = confusion_matrix(error_df.true_class, y_pred)\n",
    "plt.figure(figsize=(12, 12))\n",
    "sns.heatmap(conf_matrix, xticklabels=[\"Normal\", \"Fraud\"], yticklabels=[\"Normal\", \"Fraud\"], annot=True, fmt=\"d\");\n",
    "plt.title(\"Confusion matrix\")\n",
    "plt.ylabel('True class')\n",
    "plt.xlabel('Predicted class')\n",
    "plt.show()"
   ]
  },
  {
   "cell_type": "code",
   "execution_count": 45,
   "id": "7664c9e1",
   "metadata": {},
   "outputs": [
    {
     "name": "stdout",
     "output_type": "stream",
     "text": [
      "              precision    recall  f1-score   support\n",
      "\n",
      "           0       0.99      0.93      0.96      2008\n",
      "           1       0.34      0.87      0.49        91\n",
      "\n",
      "    accuracy                           0.92      2099\n",
      "   macro avg       0.67      0.90      0.73      2099\n",
      "weighted avg       0.97      0.92      0.94      2099\n",
      "\n"
     ]
    }
   ],
   "source": [
    "print(classification_report(error_df.true_class, y_pred))"
   ]
  },
  {
   "cell_type": "code",
   "execution_count": null,
   "id": "4bfdab11",
   "metadata": {},
   "outputs": [],
   "source": []
  },
  {
   "cell_type": "code",
   "execution_count": null,
   "id": "cef2b70b",
   "metadata": {},
   "outputs": [],
   "source": []
  },
  {
   "cell_type": "code",
   "execution_count": null,
   "id": "0cfe99eb",
   "metadata": {},
   "outputs": [],
   "source": []
  }
 ],
 "metadata": {
  "kernelspec": {
   "display_name": "Python 3 (ipykernel)",
   "language": "python",
   "name": "python3"
  },
  "language_info": {
   "codemirror_mode": {
    "name": "ipython",
    "version": 3
   },
   "file_extension": ".py",
   "mimetype": "text/x-python",
   "name": "python",
   "nbconvert_exporter": "python",
   "pygments_lexer": "ipython3",
   "version": "3.8.12"
  }
 },
 "nbformat": 4,
 "nbformat_minor": 5
}

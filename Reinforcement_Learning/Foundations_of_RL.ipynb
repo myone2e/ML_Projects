{
 "cells": [
  {
   "cell_type": "code",
   "execution_count": 1,
   "metadata": {
    "id": "LYZTmEy-xX6N"
   },
   "outputs": [
    {
     "name": "stderr",
     "output_type": "stream",
     "text": [
      "/Users/captain/opt/anaconda3/lib/python3.8/site-packages/ale_py/roms/__init__.py:94: DeprecationWarning: Automatic importing of atari-py roms won't be supported in future releases of ale-py. Please migrate over to using `ale-import-roms` OR an ALE-supported ROM package. To make this warning disappear you can run `ale-import-roms --import-from-pkg atari_py.atari_roms`.For more information see: https://github.com/mgbellemare/Arcade-Learning-Environment#rom-management\n",
      "  _RESOLVED_ROMS = _resolve_roms()\n"
     ]
    }
   ],
   "source": [
    "import numpy as np\n",
    "from scipy.optimize import minimize\n",
    "from scipy.interpolate import CubicSpline\n",
    "import gym\n",
    "import time\n",
    "import matplotlib.pyplot as plt\n",
    "%matplotlib inline"
   ]
  },
  {
   "cell_type": "markdown",
   "metadata": {
    "id": "nWdopKImxX6W"
   },
   "source": [
    "### 1. Epsilon-Greedy Algorithm "
   ]
  },
  {
   "cell_type": "code",
   "execution_count": 2,
   "metadata": {
    "id": "nHxFy5SbxX6Y"
   },
   "outputs": [],
   "source": [
    "# there are 4 slot machines, the means and standard deviations of their payoffs are listed below\n",
    "\n",
    "means = np.array([1,2,3,4])\n",
    "stds = np.array([1,2,3,4])\n",
    "narms = len(means)\n",
    "npull = 500\n"
   ]
  },
  {
   "cell_type": "code",
   "execution_count": 3,
   "metadata": {
    "id": "370oVK6kxX6a"
   },
   "outputs": [],
   "source": [
    "# when we don't know the payoff distributions we don't know to pull 4 repeatedly\n",
    "# we must learn which arm is best\n",
    "# but we shouldn't expect to do better than when we do know the distribution!"
   ]
  },
  {
   "cell_type": "code",
   "execution_count": 4,
   "metadata": {
    "id": "oQG1zKvqxX6c"
   },
   "outputs": [],
   "source": [
    "def tot_return_fun_eps_greedy_linear_anneal(epsilon_big,epsilon_small,epsilon_delta,npulls):\n",
    "    avg_so_far = np.zeros(narms)\n",
    "    pulls_per_arm = np.zeros(narms)\n",
    "    tot_return = 0\n",
    "    epsilon = epsilon_big #starting value of epsilon\n",
    "    for pull in range(npulls):\n",
    "        if np.random.random() < epsilon:  #exploration\n",
    "            this_choice = np.random.choice(narms)\n",
    "        else: #exploitation\n",
    "            this_choice = np.argmax(avg_so_far)\n",
    "        \n",
    "        #generate return from selected arm\n",
    "        payout = np.random.normal(loc=means[this_choice],scale = stds[this_choice])\n",
    "        #update average return for the selected arm\n",
    "        avg_so_far[this_choice] *= pulls_per_arm[this_choice]\n",
    "        avg_so_far[this_choice] += payout\n",
    "        pulls_per_arm[this_choice] += 1\n",
    "        avg_so_far[this_choice] /= pulls_per_arm[this_choice]        \n",
    "        tot_return += payout #update total return\n",
    "        if epsilon > epsilon_small: #update epsilon as long as it is above the defined minimum value\n",
    "            epsilon -= epsilon_delta\n",
    "    return tot_return"
   ]
  },
  {
   "cell_type": "code",
   "execution_count": 5,
   "metadata": {
    "id": "4Gy5eg3ExX6f"
   },
   "outputs": [
    {
     "data": {
      "text/plain": [
       "1696.6771461131782"
      ]
     },
     "execution_count": 5,
     "metadata": {},
     "output_type": "execute_result"
    }
   ],
   "source": [
    "# A\n",
    "nsim = 5000\n",
    "vals = np.zeros(nsim)\n",
    "for s in range(nsim):\n",
    "    vals[s] = tot_return_fun_eps_greedy_linear_anneal(1.0,0.25,0.005,npull)\n",
    "np.mean(vals)"
   ]
  },
  {
   "cell_type": "code",
   "execution_count": 6,
   "metadata": {
    "id": "SsWr-fuBxX6j"
   },
   "outputs": [
    {
     "data": {
      "text/plain": [
       "1809.443331941108"
      ]
     },
     "execution_count": 6,
     "metadata": {},
     "output_type": "execute_result"
    }
   ],
   "source": [
    "# B\n",
    "nsim = 5000\n",
    "vals = np.zeros(nsim)\n",
    "for s in range(nsim):\n",
    "    vals[s] = tot_return_fun_eps_greedy_linear_anneal(0.5,0.05,0.01,npull)\n",
    "np.mean(vals)"
   ]
  },
  {
   "cell_type": "code",
   "execution_count": 7,
   "metadata": {
    "id": "jalU2InoxX6m"
   },
   "outputs": [
    {
     "data": {
      "text/plain": [
       "1788.5421324288577"
      ]
     },
     "execution_count": 7,
     "metadata": {},
     "output_type": "execute_result"
    }
   ],
   "source": [
    "# C\n",
    "nsim = 5000\n",
    "vals = np.zeros(nsim)\n",
    "for s in range(nsim):\n",
    "    vals[s] = tot_return_fun_eps_greedy_linear_anneal(0.9,0.1,0.005,npull)\n",
    "np.mean(vals)"
   ]
  },
  {
   "cell_type": "code",
   "execution_count": 8,
   "metadata": {
    "id": "jgEkZiCFxX6o"
   },
   "outputs": [
    {
     "data": {
      "text/plain": [
       "1793.335176613061"
      ]
     },
     "execution_count": 8,
     "metadata": {},
     "output_type": "execute_result"
    }
   ],
   "source": [
    "# D\n",
    "nsim = 5000\n",
    "vals = np.zeros(nsim)\n",
    "for s in range(nsim):\n",
    "    vals[s] = tot_return_fun_eps_greedy_linear_anneal(0.75,0.15,0.01,npull)\n",
    "np.mean(vals)"
   ]
  },
  {
   "cell_type": "code",
   "execution_count": 9,
   "metadata": {
    "id": "WIQfYThExX6q"
   },
   "outputs": [
    {
     "data": {
      "text/plain": [
       "1752.309568740626"
      ]
     },
     "execution_count": 9,
     "metadata": {},
     "output_type": "execute_result"
    }
   ],
   "source": [
    "# E\n",
    "nsim = 5000\n",
    "vals = np.zeros(nsim)\n",
    "for s in range(nsim):\n",
    "    vals[s] = tot_return_fun_eps_greedy_linear_anneal(0.15,0.15,0.0,npull)\n",
    "np.mean(vals)"
   ]
  },
  {
   "cell_type": "markdown",
   "metadata": {
    "id": "MF4A-jd-xX6t"
   },
   "source": [
    "### 2. Non Integer Dynamic Programming by Interpolation"
   ]
  },
  {
   "cell_type": "code",
   "execution_count": 10,
   "metadata": {
    "id": "lPtSpN4sxX6u"
   },
   "outputs": [],
   "source": [
    "price = 1 # price per ton sold\n",
    "M = 100 # current tons in mine\n",
    "delta = 0.9 # discount rate\n",
    "T = 15 # years with a lease\n",
    "\n",
    "sValues = np.arange(M+1) # all possible levels of ore in mine\n",
    "tValues = np.arange(T+1) # get to mine in years 0-14, in year 15 mine shuts down\n",
    "\n",
    "sN = len(sValues) # how many s and t values are there?\n",
    "tN = len(tValues)\n"
   ]
  },
  {
   "cell_type": "code",
   "execution_count": null,
   "metadata": {
    "id": "-NUf5Ny-xX6x"
   },
   "outputs": [],
   "source": []
  },
  {
   "cell_type": "code",
   "execution_count": null,
   "metadata": {
    "id": "vdDG-Lk7xX6y"
   },
   "outputs": [],
   "source": []
  },
  {
   "cell_type": "code",
   "execution_count": 11,
   "metadata": {
    "id": "dUuG4hFqxX6z"
   },
   "outputs": [],
   "source": [
    "V = np.zeros((sN,tN)) # value function\n",
    "U = np.zeros((sN,tN)) # place to store optimal number of tons to mine"
   ]
  },
  {
   "cell_type": "code",
   "execution_count": 12,
   "metadata": {
    "id": "bo9X5sB3xX60"
   },
   "outputs": [],
   "source": [
    "V[:,tN-1] = 0 # terminal condition value function.. this is a bit redundant because of lines above, but it's worth repeating!\n",
    "U[:,tN-1] = 0 # terminal tons of ore to mine"
   ]
  },
  {
   "cell_type": "code",
   "execution_count": 13,
   "metadata": {
    "id": "OUzjW9cjxX62"
   },
   "outputs": [
    {
     "name": "stderr",
     "output_type": "stream",
     "text": [
      "/Users/captain/opt/anaconda3/lib/python3.8/site-packages/scipy/optimize/_numdiff.py:579: RuntimeWarning: invalid value encountered in true_divide\n",
      "  J_transposed[i] = df / dx\n"
     ]
    }
   ],
   "source": [
    "for ti in reversed(range(tN-1)): # loop backwards in time\n",
    "    # create a cubic spline for tomorrow's value function\n",
    "    cs = CubicSpline(sValues,V[:,ti+1])\n",
    "    for si in range(sN): # loop over all possible tons of ore in mine\n",
    "        t=tValues[ti] # what is the actual time and tons in the mine\n",
    "        s=sValues[si] \n",
    "        \n",
    "        # create a function that defines the value function as a function of x\n",
    "        def fun(x):\n",
    "            return -(price*x - (x**2)/(1+s) + delta*cs(s-x))\n",
    "        # do some NLP to get the optimal x\n",
    "        opt = minimize(fun,[s/2.0],method='L-BFGS-B',bounds=[(0,s)],tol=1e-8)\n",
    "        V[si,ti] = -opt.fun[0] # pick the one that maximizes that value\n",
    "        U[si,ti] = opt.x[0]"
   ]
  },
  {
   "cell_type": "code",
   "execution_count": null,
   "metadata": {
    "id": "Q9RsJ0DVxX64"
   },
   "outputs": [],
   "source": []
  },
  {
   "cell_type": "code",
   "execution_count": null,
   "metadata": {
    "id": "dMZwba4YxX65"
   },
   "outputs": [],
   "source": []
  },
  {
   "cell_type": "code",
   "execution_count": 14,
   "metadata": {
    "id": "H4AcAplzxX68"
   },
   "outputs": [
    {
     "data": {
      "text/plain": [
       "58.15776317781976"
      ]
     },
     "execution_count": 14,
     "metadata": {},
     "output_type": "execute_result"
    }
   ],
   "source": [
    "V[100,0]"
   ]
  },
  {
   "cell_type": "code",
   "execution_count": 15,
   "metadata": {
    "id": "MiX5knYGxX69"
   },
   "outputs": [
    {
     "data": {
      "text/plain": [
       "0.04382122547511358"
      ]
     },
     "execution_count": 15,
     "metadata": {},
     "output_type": "execute_result"
    }
   ],
   "source": [
    "# 58.113941952344646 is V[100,0] from the integer dynamic programming\n",
    "V[100,0]-58.113941952344646"
   ]
  },
  {
   "cell_type": "code",
   "execution_count": null,
   "metadata": {
    "id": "vsiiTx5KxX7A"
   },
   "outputs": [],
   "source": []
  },
  {
   "cell_type": "markdown",
   "metadata": {
    "id": "J4R5txyrxX7B"
   },
   "source": [
    "## Finding the pixels where the game is played"
   ]
  },
  {
   "cell_type": "code",
   "execution_count": 16,
   "metadata": {
    "id": "mPNKRV3QxX7B"
   },
   "outputs": [
    {
     "name": "stderr",
     "output_type": "stream",
     "text": [
      "/Users/captain/opt/anaconda3/lib/python3.8/site-packages/gym/envs/registration.py:505: UserWarning: \u001b[33mWARN: The environment Pong-v0 is out of date. You should consider upgrading to version `v5` with the environment ID `ALE/Pong-v5`.\u001b[0m\n",
      "  logger.warn(\n",
      "A.L.E: Arcade Learning Environment (version 0.7.4+069f8bd)\n",
      "[Powered by Stella]\n",
      "/Users/captain/opt/anaconda3/lib/python3.8/site-packages/gym/utils/seeding.py:138: DeprecationWarning: \u001b[33mWARN: Function `hash_seed(seed, max_bytes)` is marked as deprecated and will be removed in the future. \u001b[0m\n",
      "  deprecation(\n",
      "/Users/captain/opt/anaconda3/lib/python3.8/site-packages/gym/utils/seeding.py:175: DeprecationWarning: \u001b[33mWARN: Function `_bigint_from_bytes(bytes)` is marked as deprecated and will be removed in the future. \u001b[0m\n",
      "  deprecation(\n"
     ]
    }
   ],
   "source": [
    "env = gym.make(\"Pong-v0\") # create the pong 'environment'"
   ]
  },
  {
   "cell_type": "code",
   "execution_count": 17,
   "metadata": {
    "id": "T8hpGTY7xX7D"
   },
   "outputs": [],
   "source": [
    "def prepro(I):\n",
    "    # preprocess each frame for learning\n",
    "    # save some memory and computation\n",
    "    # pre-process the image from a 210x160x3 uint8 frame into an (80x80) float array \n",
    "    I = I[35:195,:,:].copy() # crop the top of the image...score image doesn't matter for how to play\n",
    "    I = I[::2,::2,0].copy()\n",
    "    I[I == 144] = 0 # erase background (background type 1)\n",
    "    I[I == 109] = 0 # erase background (background type 2)\n",
    "    I[I != 0] = 1 # everything else (paddles, ball) just set to 1\n",
    "    return np.array(I.copy())"
   ]
  },
  {
   "cell_type": "code",
   "execution_count": 18,
   "metadata": {
    "id": "vE2beRNKxX7F"
   },
   "outputs": [
    {
     "name": "stdout",
     "output_type": "stream",
     "text": [
      "0\n"
     ]
    },
    {
     "name": "stderr",
     "output_type": "stream",
     "text": [
      "/Users/captain/opt/anaconda3/lib/python3.8/site-packages/gym/utils/seeding.py:47: DeprecationWarning: \u001b[33mWARN: Function `rng.randint(low, [high, size, dtype])` is marked as deprecated and will be removed in the future. Please use `rng.integers(low, [high, size, dtype])` instead.\u001b[0m\n",
      "  deprecation(\n"
     ]
    },
    {
     "name": "stdout",
     "output_type": "stream",
     "text": [
      "1\n",
      "2\n",
      "3\n",
      "4\n",
      "5\n",
      "6\n",
      "7\n",
      "8\n",
      "9\n",
      "10\n",
      "11\n",
      "12\n",
      "13\n",
      "14\n",
      "15\n",
      "16\n",
      "17\n",
      "18\n",
      "19\n",
      "20\n",
      "21\n",
      "22\n",
      "23\n",
      "24\n",
      "25\n",
      "26\n",
      "27\n",
      "28\n",
      "29\n",
      "30\n",
      "31\n",
      "32\n",
      "33\n",
      "34\n",
      "35\n",
      "36\n",
      "37\n",
      "38\n",
      "39\n",
      "40\n",
      "41\n",
      "42\n",
      "43\n",
      "44\n",
      "45\n",
      "46\n",
      "47\n",
      "48\n",
      "49\n",
      "50\n",
      "51\n",
      "52\n",
      "53\n",
      "54\n",
      "55\n",
      "56\n",
      "57\n",
      "58\n",
      "59\n",
      "60\n",
      "61\n",
      "62\n",
      "63\n",
      "64\n",
      "65\n",
      "66\n",
      "67\n",
      "68\n",
      "69\n",
      "70\n",
      "71\n",
      "72\n",
      "73\n",
      "74\n",
      "75\n",
      "76\n",
      "77\n",
      "78\n",
      "79\n",
      "80\n",
      "81\n",
      "82\n",
      "83\n",
      "84\n",
      "85\n",
      "86\n",
      "87\n",
      "88\n",
      "89\n",
      "90\n",
      "91\n",
      "92\n",
      "93\n",
      "94\n",
      "95\n",
      "96\n",
      "97\n",
      "98\n",
      "99\n",
      "100\n",
      "101\n",
      "102\n",
      "103\n",
      "104\n",
      "105\n",
      "106\n",
      "107\n",
      "108\n",
      "109\n",
      "110\n",
      "111\n",
      "112\n",
      "113\n",
      "114\n",
      "115\n",
      "116\n",
      "117\n",
      "118\n",
      "119\n",
      "120\n",
      "121\n",
      "122\n",
      "123\n",
      "124\n",
      "125\n",
      "126\n",
      "127\n",
      "128\n",
      "129\n",
      "130\n",
      "131\n",
      "132\n",
      "133\n",
      "134\n",
      "135\n",
      "136\n",
      "137\n",
      "138\n",
      "139\n",
      "140\n",
      "141\n",
      "142\n",
      "143\n",
      "144\n",
      "145\n",
      "146\n",
      "147\n",
      "148\n",
      "149\n",
      "150\n",
      "151\n",
      "152\n",
      "153\n",
      "154\n",
      "155\n",
      "156\n",
      "157\n",
      "158\n",
      "159\n",
      "160\n",
      "161\n",
      "162\n",
      "163\n",
      "164\n",
      "165\n",
      "166\n",
      "167\n",
      "168\n",
      "169\n",
      "170\n",
      "171\n",
      "172\n",
      "173\n",
      "174\n",
      "175\n",
      "176\n",
      "177\n",
      "178\n",
      "179\n",
      "180\n",
      "181\n",
      "182\n",
      "183\n",
      "184\n",
      "185\n",
      "186\n",
      "187\n",
      "188\n",
      "189\n",
      "190\n",
      "191\n",
      "192\n",
      "193\n",
      "194\n",
      "195\n",
      "196\n",
      "197\n",
      "198\n",
      "199\n",
      "200\n",
      "201\n",
      "202\n",
      "203\n",
      "204\n",
      "205\n",
      "206\n",
      "207\n",
      "208\n",
      "209\n",
      "210\n",
      "211\n",
      "212\n",
      "213\n",
      "214\n",
      "215\n",
      "216\n",
      "217\n",
      "218\n",
      "219\n",
      "220\n",
      "221\n",
      "222\n",
      "223\n",
      "224\n",
      "225\n",
      "226\n",
      "227\n",
      "228\n",
      "229\n",
      "230\n",
      "231\n",
      "232\n",
      "233\n",
      "234\n",
      "235\n",
      "236\n",
      "237\n",
      "238\n",
      "239\n",
      "240\n",
      "241\n",
      "242\n",
      "243\n",
      "244\n",
      "245\n",
      "246\n",
      "247\n",
      "248\n",
      "249\n",
      "250\n",
      "251\n",
      "252\n",
      "253\n",
      "254\n",
      "255\n",
      "256\n",
      "257\n",
      "258\n",
      "259\n",
      "260\n",
      "261\n",
      "262\n",
      "263\n",
      "264\n",
      "265\n",
      "266\n",
      "267\n",
      "268\n",
      "269\n",
      "270\n",
      "271\n",
      "272\n",
      "273\n",
      "274\n",
      "275\n",
      "276\n",
      "277\n",
      "278\n",
      "279\n",
      "280\n",
      "281\n",
      "282\n",
      "283\n",
      "284\n",
      "285\n",
      "286\n",
      "287\n",
      "288\n",
      "289\n",
      "290\n",
      "291\n",
      "292\n",
      "293\n",
      "294\n",
      "295\n",
      "296\n",
      "297\n",
      "298\n",
      "299\n",
      "300\n",
      "301\n",
      "302\n",
      "303\n",
      "304\n",
      "305\n",
      "306\n",
      "307\n",
      "308\n",
      "309\n",
      "310\n",
      "311\n",
      "312\n",
      "313\n",
      "314\n",
      "315\n",
      "316\n",
      "317\n",
      "318\n",
      "319\n",
      "320\n",
      "321\n",
      "322\n",
      "323\n",
      "324\n",
      "325\n",
      "326\n",
      "327\n",
      "328\n",
      "329\n",
      "330\n",
      "331\n",
      "332\n",
      "333\n",
      "334\n",
      "335\n",
      "336\n",
      "337\n",
      "338\n",
      "339\n",
      "340\n",
      "341\n",
      "342\n",
      "343\n",
      "344\n",
      "345\n",
      "346\n",
      "347\n",
      "348\n",
      "349\n",
      "350\n",
      "351\n",
      "352\n",
      "353\n",
      "354\n",
      "355\n",
      "356\n",
      "357\n",
      "358\n",
      "359\n",
      "360\n",
      "361\n",
      "362\n",
      "363\n",
      "364\n",
      "365\n",
      "366\n",
      "367\n",
      "368\n",
      "369\n",
      "370\n",
      "371\n",
      "372\n",
      "373\n",
      "374\n",
      "375\n",
      "376\n",
      "377\n",
      "378\n",
      "379\n",
      "380\n",
      "381\n",
      "382\n",
      "383\n",
      "384\n",
      "385\n",
      "386\n",
      "387\n",
      "388\n",
      "389\n",
      "390\n",
      "391\n",
      "392\n",
      "393\n",
      "394\n",
      "395\n",
      "396\n",
      "397\n",
      "398\n",
      "399\n",
      "400\n",
      "401\n",
      "402\n",
      "403\n",
      "404\n",
      "405\n",
      "406\n",
      "407\n",
      "408\n",
      "409\n",
      "410\n",
      "411\n",
      "412\n",
      "413\n",
      "414\n",
      "415\n",
      "416\n",
      "417\n",
      "418\n",
      "419\n",
      "420\n",
      "421\n",
      "422\n",
      "423\n",
      "424\n",
      "425\n",
      "426\n",
      "427\n",
      "428\n",
      "429\n",
      "430\n",
      "431\n",
      "432\n",
      "433\n",
      "434\n",
      "435\n",
      "436\n",
      "437\n",
      "438\n",
      "439\n",
      "440\n",
      "441\n",
      "442\n",
      "443\n",
      "444\n",
      "445\n",
      "446\n",
      "447\n",
      "448\n",
      "449\n",
      "450\n",
      "451\n",
      "452\n",
      "453\n",
      "454\n",
      "455\n",
      "456\n",
      "457\n",
      "458\n",
      "459\n",
      "460\n",
      "461\n",
      "462\n",
      "463\n",
      "464\n",
      "465\n",
      "466\n",
      "467\n",
      "468\n",
      "469\n",
      "470\n",
      "471\n",
      "472\n",
      "473\n",
      "474\n",
      "475\n",
      "476\n",
      "477\n",
      "478\n",
      "479\n",
      "480\n",
      "481\n",
      "482\n",
      "483\n",
      "484\n",
      "485\n",
      "486\n",
      "487\n",
      "488\n",
      "489\n",
      "490\n",
      "491\n",
      "492\n",
      "493\n",
      "494\n",
      "495\n",
      "496\n",
      "497\n",
      "498\n",
      "499\n"
     ]
    },
    {
     "data": {
      "text/plain": [
       "7.564"
      ]
     },
     "execution_count": 18,
     "metadata": {},
     "output_type": "execute_result"
    }
   ],
   "source": [
    "render = False\n",
    "slow = False\n",
    "ngames = 500\n",
    "score_vec = np.zeros(ngames)\n",
    "for game in range(ngames):\n",
    "    print(game)\n",
    "    done = False\n",
    "    score = 0\n",
    "    raw_pixels = env.reset()\n",
    "    pixels = prepro(raw_pixels)\n",
    "    reward_vec = []\n",
    "    while not done:\n",
    "        # the ball is between columns 10 - 69\n",
    "        ball = np.where(pixels[:,10:70]==1)\n",
    "        if len(ball[0])==0: # no ball on screen\n",
    "            # do nothing...\n",
    "            action = 0\n",
    "        else: # move towards the ball\n",
    "            # my paddle is in columns 70 and 71\n",
    "            my_paddle = np.mean(np.where(pixels[:,71]==1))\n",
    "            # move towards ball\n",
    "            ball = np.mean(ball[0])\n",
    "            if my_paddle < ball:\n",
    "                action = 3\n",
    "            elif my_paddle > ball:\n",
    "                action = 2\n",
    "            else:\n",
    "                action = 0\n",
    "\n",
    "        # 2 is down, 3 is up\n",
    "    #     action = 2#np.random.choice([0,2,3]) # we'll eventually pick the action from a NN\n",
    "        if render == True: # do you actually want to visualize the playing?\n",
    "            env.render()\n",
    "            if slow == True: # do you want to slow it down so you can see the game better?\n",
    "                time.sleep(0.005)\n",
    "        raw_pixels, reward, done, info = env.step(action)\n",
    "        reward_vec.append(reward)\n",
    "        pixels = prepro(raw_pixels)\n",
    "\n",
    "        score += reward\n",
    "    \n",
    "    score_vec[game] = np.sum(np.array(reward_vec)==1)\n",
    "    \n",
    "np.mean(score_vec)\n",
    "        \n",
    "        \n",
    "    "
   ]
  },
  {
   "cell_type": "code",
   "execution_count": 19,
   "metadata": {
    "id": "8SYnlUDhxX7G"
   },
   "outputs": [
    {
     "data": {
      "text/plain": [
       "0.13279987951801764"
      ]
     },
     "execution_count": 19,
     "metadata": {},
     "output_type": "execute_result"
    }
   ],
   "source": [
    "np.std(score_vec)/np.sqrt(500)"
   ]
  },
  {
   "cell_type": "code",
   "execution_count": 20,
   "metadata": {
    "id": "zUMUlelqxX7H"
   },
   "outputs": [
    {
     "data": {
      "text/plain": [
       "(array([63, 64, 65, 66, 67, 68, 69, 70]),)"
      ]
     },
     "execution_count": 20,
     "metadata": {},
     "output_type": "execute_result"
    }
   ],
   "source": [
    "np.where(pixels[:,71]==1) # paddle here"
   ]
  },
  {
   "cell_type": "code",
   "execution_count": 21,
   "metadata": {
    "id": "ngBZzLC0T7PE"
   },
   "outputs": [
    {
     "data": {
      "text/plain": [
       "(array([63, 64, 65, 66, 67, 68, 69, 70]),)"
      ]
     },
     "execution_count": 21,
     "metadata": {},
     "output_type": "execute_result"
    }
   ],
   "source": [
    "np.where(pixels[:,70]==1) # paddle here"
   ]
  },
  {
   "cell_type": "code",
   "execution_count": 22,
   "metadata": {
    "id": "EWbIYYjeT7PF"
   },
   "outputs": [
    {
     "data": {
      "text/plain": [
       "(array([], dtype=int64),)"
      ]
     },
     "execution_count": 22,
     "metadata": {},
     "output_type": "execute_result"
    }
   ],
   "source": [
    "np.where(pixels[:,69]==1) # no paddle here"
   ]
  },
  {
   "cell_type": "code",
   "execution_count": 23,
   "metadata": {
    "id": "_XFsSponT7PF"
   },
   "outputs": [
    {
     "data": {
      "text/plain": [
       "(array([], dtype=int64),)"
      ]
     },
     "execution_count": 23,
     "metadata": {},
     "output_type": "execute_result"
    }
   ],
   "source": [
    "np.where(pixels[:,10]==1) # no paddle here"
   ]
  },
  {
   "cell_type": "code",
   "execution_count": 24,
   "metadata": {
    "id": "3ZDQmJjvT7PF"
   },
   "outputs": [
    {
     "data": {
      "text/plain": [
       "(array([77, 78, 79]),)"
      ]
     },
     "execution_count": 24,
     "metadata": {},
     "output_type": "execute_result"
    }
   ],
   "source": [
    "np.where(pixels[:,9]==1) # paddle here"
   ]
  },
  {
   "cell_type": "code",
   "execution_count": null,
   "metadata": {
    "id": "KMrVfNC6T7PF"
   },
   "outputs": [],
   "source": []
  }
 ],
 "metadata": {
  "colab": {
   "collapsed_sections": [
    "J4R5txyrxX7B"
   ],
   "name": "HW4_Solution.ipynb",
   "provenance": []
  },
  "kernelspec": {
   "display_name": "Python 3 (ipykernel)",
   "language": "python",
   "name": "python3"
  },
  "language_info": {
   "codemirror_mode": {
    "name": "ipython",
    "version": 3
   },
   "file_extension": ".py",
   "mimetype": "text/x-python",
   "name": "python",
   "nbconvert_exporter": "python",
   "pygments_lexer": "ipython3",
   "version": "3.8.12"
  }
 },
 "nbformat": 4,
 "nbformat_minor": 1
}

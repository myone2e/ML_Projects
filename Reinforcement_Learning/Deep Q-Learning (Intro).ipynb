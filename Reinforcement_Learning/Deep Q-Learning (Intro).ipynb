{
 "cells": [
  {
   "cell_type": "code",
   "execution_count": 1,
   "metadata": {
    "id": "AMv3LdJwemtw"
   },
   "outputs": [
    {
     "name": "stderr",
     "output_type": "stream",
     "text": [
      "/Users/captain/opt/anaconda3/lib/python3.8/site-packages/ale_py/roms/__init__.py:94: DeprecationWarning: Automatic importing of atari-py roms won't be supported in future releases of ale-py. Please migrate over to using `ale-import-roms` OR an ALE-supported ROM package. To make this warning disappear you can run `ale-import-roms --import-from-pkg atari_py.atari_roms`.For more information see: https://github.com/mgbellemare/Arcade-Learning-Environment#rom-management\n",
      "  _RESOLVED_ROMS = _resolve_roms()\n",
      "/Users/captain/opt/anaconda3/lib/python3.8/site-packages/tensorflow/python/framework/dtypes.py:585: DeprecationWarning: `np.object` is a deprecated alias for the builtin `object`. To silence this warning, use `object` by itself. Doing this will not modify any behavior and is safe. \n",
      "Deprecated in NumPy 1.20; for more details and guidance: https://numpy.org/devdocs/release/1.20.0-notes.html#deprecations\n",
      "  np.object,\n",
      "/Users/captain/opt/anaconda3/lib/python3.8/site-packages/tensorflow/python/framework/dtypes.py:637: DeprecationWarning: `np.bool` is a deprecated alias for the builtin `bool`. To silence this warning, use `bool` by itself. Doing this will not modify any behavior and is safe. If you specifically wanted the numpy scalar type, use `np.bool_` here.\n",
      "Deprecated in NumPy 1.20; for more details and guidance: https://numpy.org/devdocs/release/1.20.0-notes.html#deprecations\n",
      "  np.bool,\n",
      "/Users/captain/opt/anaconda3/lib/python3.8/site-packages/tensorflow/python/framework/tensor_util.py:108: DeprecationWarning: `np.object` is a deprecated alias for the builtin `object`. To silence this warning, use `object` by itself. Doing this will not modify any behavior and is safe. \n",
      "Deprecated in NumPy 1.20; for more details and guidance: https://numpy.org/devdocs/release/1.20.0-notes.html#deprecations\n",
      "  np.object:\n",
      "/Users/captain/opt/anaconda3/lib/python3.8/site-packages/tensorflow/python/framework/tensor_util.py:110: DeprecationWarning: `np.bool` is a deprecated alias for the builtin `bool`. To silence this warning, use `bool` by itself. Doing this will not modify any behavior and is safe. If you specifically wanted the numpy scalar type, use `np.bool_` here.\n",
      "Deprecated in NumPy 1.20; for more details and guidance: https://numpy.org/devdocs/release/1.20.0-notes.html#deprecations\n",
      "  np.bool:\n",
      "/Users/captain/opt/anaconda3/lib/python3.8/site-packages/tensorflow/python/ops/numpy_ops/np_random.py:110: DeprecationWarning: `np.int` is a deprecated alias for the builtin `int`. To silence this warning, use `int` by itself. Doing this will not modify any behavior and is safe. When replacing `np.int`, you may wish to use e.g. `np.int64` or `np.int32` to specify the precision. If you wish to review your current use, check the release note link for additional information.\n",
      "Deprecated in NumPy 1.20; for more details and guidance: https://numpy.org/devdocs/release/1.20.0-notes.html#deprecations\n",
      "  def randint(low, high=None, size=None, dtype=onp.int):  # pylint: disable=missing-function-docstring\n",
      "/Users/captain/opt/anaconda3/lib/python3.8/site-packages/h5py/__init__.py:46: DeprecationWarning: `np.typeDict` is a deprecated alias for `np.sctypeDict`.\n",
      "  from ._conv import register_converters as _register_converters\n"
     ]
    }
   ],
   "source": [
    "import numpy as np\n",
    "import gym\n",
    "import tensorflow as tf\n",
    "import time\n",
    "from tensorflow.keras.models import Model\n",
    "from tensorflow.keras.layers import Dense, Flatten, Dropout, Conv2D, Input\n",
    "\n",
    "tf.compat.v1.logging.set_verbosity(tf.compat.v1.logging.ERROR) # stop displaying warnings that mean nothing!!!"
   ]
  },
  {
   "cell_type": "code",
   "execution_count": 2,
   "metadata": {
    "id": "3z7RGiChemt7"
   },
   "outputs": [],
   "source": [
    "def prepro(I):\n",
    "    # preprocess each frame for learning\n",
    "    # save some memory and computation\n",
    "    # pre-process the image from a 210x160x3 uint8 frame into an (80x80) float array \n",
    "    I = I[35:195,:,:].copy() # crop the top of the image...score image doesn't matter for how to play\n",
    "    I = I[::2,::2,0].copy()\n",
    "    I[I == 144] = 0 # erase background (background type 1)\n",
    "    I[I == 109] = 0 # erase background (background type 2)\n",
    "    I[I != 0] = 1 # everything else (paddles, ball) just set to 1\n",
    "    return np.array(I.copy())"
   ]
  },
  {
   "cell_type": "code",
   "execution_count": 3,
   "metadata": {
    "id": "2wGNTkczemt_"
   },
   "outputs": [],
   "source": [
    "# keras functional api\n",
    "# very slow and won't work well\n",
    "def create_model(height,width,channels):\n",
    "    # we cannot simply have 3 output nodes because we want to put a weight on each node's impact to the objective\n",
    "    # that is different for each data point.  the only way to achieve this is to have 3 output layers, each having 1 node\n",
    "    # the effect is the same, just the way TF/keras handles weights is different\n",
    "    imp = Input(shape=(height,width,channels))\n",
    "    mid = Conv2D(16,(8,8),strides=4,activation='relu')(imp)\n",
    "    mid = Conv2D(32,(4,4),strides=2,activation='relu')(mid)\n",
    "    mid = Flatten()(mid)\n",
    "    mid = Dense(256,activation='relu')(mid)\n",
    "    \n",
    "    # output layer with 3 nodes does not work\n",
    "    # we trick tf => 3 output layers & each has one node\n",
    "    \n",
    "    out0 = Dense(1,activation='linear',name='out0')(mid)\n",
    "    out1 = Dense(1,activation='linear',name='out1')(mid)\n",
    "    out2 = Dense(1,activation='linear',name='out2')(mid)\n",
    "    model = Model(imp,[out0,out1,out2])  # three output nodes in list\n",
    "    # why? to set different objective function for each node\n",
    "    \n",
    "    model.compile(optimizer=tf.keras.optimizers.Adam(learning_rate=1e-4),loss='mean_squared_error')\n",
    "    \n",
    "    return model"
   ]
  },
  {
   "cell_type": "code",
   "execution_count": 4,
   "metadata": {
    "id": "MA65BpiIemuB"
   },
   "outputs": [
    {
     "name": "stdout",
     "output_type": "stream",
     "text": [
      "Model: \"model\"\n",
      "__________________________________________________________________________________________________\n",
      "Layer (type)                    Output Shape         Param #     Connected to                     \n",
      "==================================================================================================\n",
      "input_1 (InputLayer)            [(None, 80, 80, 4)]  0                                            \n",
      "__________________________________________________________________________________________________\n",
      "conv2d (Conv2D)                 (None, 19, 19, 16)   4112        input_1[0][0]                    \n",
      "__________________________________________________________________________________________________\n",
      "conv2d_1 (Conv2D)               (None, 8, 8, 32)     8224        conv2d[0][0]                     \n",
      "__________________________________________________________________________________________________\n",
      "flatten (Flatten)               (None, 2048)         0           conv2d_1[0][0]                   \n",
      "__________________________________________________________________________________________________\n",
      "dense (Dense)                   (None, 256)          524544      flatten[0][0]                    \n",
      "__________________________________________________________________________________________________\n",
      "out0 (Dense)                    (None, 1)            257         dense[0][0]                      \n",
      "__________________________________________________________________________________________________\n",
      "out1 (Dense)                    (None, 1)            257         dense[0][0]                      \n",
      "__________________________________________________________________________________________________\n",
      "out2 (Dense)                    (None, 1)            257         dense[0][0]                      \n",
      "==================================================================================================\n",
      "Total params: 537,651\n",
      "Trainable params: 537,651\n",
      "Non-trainable params: 0\n",
      "__________________________________________________________________________________________________\n"
     ]
    },
    {
     "name": "stderr",
     "output_type": "stream",
     "text": [
      "2022-04-29 08:44:07.047509: I tensorflow/core/platform/cpu_feature_guard.cc:142] This TensorFlow binary is optimized with oneAPI Deep Neural Network Library (oneDNN) to use the following CPU instructions in performance-critical operations:  AVX2 FMA\n",
      "To enable them in other operations, rebuild TensorFlow with the appropriate compiler flags.\n"
     ]
    }
   ],
   "source": [
    "frames_to_net = 4              # how many previous frames will we feed the NN\n",
    "possible_actions = [0,2,3]\n",
    "mod = create_model(80,80,frames_to_net)\n",
    "mod.call = tf.function(mod.call,experimental_relax_shapes=True)\n",
    "\n",
    "mod.summary()"
   ]
  },
  {
   "cell_type": "code",
   "execution_count": null,
   "metadata": {
    "id": "zL4HlzkcemuD"
   },
   "outputs": [],
   "source": []
  },
  {
   "cell_type": "code",
   "execution_count": null,
   "metadata": {
    "id": "xqfaavoKemuF"
   },
   "outputs": [],
   "source": []
  },
  {
   "cell_type": "code",
   "execution_count": 5,
   "metadata": {
    "id": "SOUXt3E5emuH"
   },
   "outputs": [],
   "source": [
    "def play1game(model,ep):\n",
    "    env0 = gym.make(\"Pong-v0\")\n",
    "    pix = env0.reset()\n",
    "    pix = prepro(pix)\n",
    "    frames_this_game = 0\n",
    "    feed = np.zeros((1,80,80,frames_to_net))\n",
    "    feed[0,:,:,0] = pix.copy()\n",
    "    \n",
    "    frame_array = []\n",
    "    action_array = []\n",
    "    reward_array = []\n",
    "    \n",
    "    score = 0\n",
    "    done = False\n",
    "    while not done:\n",
    "        if np.random.random() < ep: # epsilon greedy instead of complete random\n",
    "            action = np.random.choice(3)\n",
    "        else:\n",
    "            vf = mod(feed,training=False) # recent 4 frames\n",
    "            vf = [vf[0][0,0].numpy(),vf[1][0,0].numpy(),vf[2][0,0].numpy()] #0: most recent frame\n",
    "            action = np.argmax(vf)\n",
    "        action0 = possible_actions[action]\n",
    "        pix_new, reward, done, info = env0.step(action0)\n",
    "        frame_array.append(pix)\n",
    "        action_array.append(action)\n",
    "        reward_array.append(reward)\n",
    "        pix = prepro(pix_new)\n",
    "        frames_this_game += 1\n",
    "\n",
    "        for f in range(1,frames_to_net):\n",
    "            feed[0,:,:,frames_to_net-f] = feed[0,:,:,frames_to_net-f-1].copy()\n",
    "        feed[0,:,:,0] = pix.copy()\n",
    "        score += reward\n",
    "    return frame_array, action_array, reward_array, score"
   ]
  },
  {
   "cell_type": "code",
   "execution_count": 6,
   "metadata": {
    "id": "SH8ZyJAUemuK"
   },
   "outputs": [
    {
     "name": "stderr",
     "output_type": "stream",
     "text": [
      "/Users/captain/opt/anaconda3/lib/python3.8/site-packages/gym/envs/registration.py:505: UserWarning: \u001b[33mWARN: The environment Pong-v0 is out of date. You should consider upgrading to version `v5` with the environment ID `ALE/Pong-v5`.\u001b[0m\n",
      "  logger.warn(\n",
      "A.L.E: Arcade Learning Environment (version 0.7.4+069f8bd)\n",
      "[Powered by Stella]\n",
      "/Users/captain/opt/anaconda3/lib/python3.8/site-packages/gym/utils/seeding.py:138: DeprecationWarning: \u001b[33mWARN: Function `hash_seed(seed, max_bytes)` is marked as deprecated and will be removed in the future. \u001b[0m\n",
      "  deprecation(\n",
      "/Users/captain/opt/anaconda3/lib/python3.8/site-packages/gym/utils/seeding.py:175: DeprecationWarning: \u001b[33mWARN: Function `_bigint_from_bytes(bytes)` is marked as deprecated and will be removed in the future. \u001b[0m\n",
      "  deprecation(\n",
      "2022-04-29 08:44:07.612505: I tensorflow/compiler/mlir/mlir_graph_optimization_pass.cc:185] None of the MLIR Optimization Passes are enabled (registered 2)\n",
      "/Users/captain/opt/anaconda3/lib/python3.8/site-packages/gym/utils/seeding.py:47: DeprecationWarning: \u001b[33mWARN: Function `rng.randint(low, [high, size, dtype])` is marked as deprecated and will be removed in the future. Please use `rng.integers(low, [high, size, dtype])` instead.\u001b[0m\n",
      "  deprecation(\n"
     ]
    }
   ],
   "source": [
    "frames, actions, rewards, score = play1game(mod,0.5)"
   ]
  },
  {
   "cell_type": "code",
   "execution_count": 7,
   "metadata": {
    "id": "RgZupiWQemuL"
   },
   "outputs": [
    {
     "data": {
      "text/plain": [
       "-21.0"
      ]
     },
     "execution_count": 7,
     "metadata": {},
     "output_type": "execute_result"
    }
   ],
   "source": [
    "score # we lost all points"
   ]
  },
  {
   "cell_type": "code",
   "execution_count": 8,
   "metadata": {
    "id": "7J9qDIY4GOy-"
   },
   "outputs": [
    {
     "data": {
      "text/plain": [
       "1101"
      ]
     },
     "execution_count": 8,
     "metadata": {},
     "output_type": "execute_result"
    }
   ],
   "source": [
    "len(frames) # how many frames in 1 game"
   ]
  },
  {
   "cell_type": "code",
   "execution_count": 9,
   "metadata": {
    "id": "0ANsKtKYglSA"
   },
   "outputs": [],
   "source": [
    "ngames = 1000 # let tf play 1000 games\n",
    "epsvec = np.linspace(1,0.05,ngames) # decrease epsilon\n",
    "ngames = 100 # lets just play 100 \n",
    "delt = 0.99 # discount rate\n",
    "nbatch = 32 # for sgd"
   ]
  },
  {
   "cell_type": "code",
   "execution_count": 17,
   "metadata": {
    "id": "Ma18PhPxlgli"
   },
   "outputs": [
    {
     "name": "stdout",
     "output_type": "stream",
     "text": [
      "[0, -21.0, 1.0, 3.080907106399536]\n",
      "[1, -21.0, 0.999049049049049, 2.314507007598877]\n",
      "[2, -21.0, 0.9980980980980981, 1.7715950012207031]\n",
      "[3, -21.0, 0.9971471471471471, 1.779400110244751]\n",
      "[4, -20.0, 0.9961961961961961, 2.2440710067749023]\n",
      "[5, -20.0, 0.9952452452452453, 2.351041078567505]\n",
      "[6, -19.0, 0.9942942942942943, 2.3224940299987793]\n",
      "[7, -21.0, 0.9933433433433434, 2.023738145828247]\n",
      "[8, -21.0, 0.9923923923923924, 1.86279296875]\n",
      "[9, -20.0, 0.9914414414414414, 2.35799503326416]\n",
      "[10, -21.0, 0.9904904904904905, 2.4658091068267822]\n",
      "[11, -20.0, 0.9895395395395395, 2.3893508911132812]\n",
      "[12, -21.0, 0.9885885885885886, 1.7554800510406494]\n",
      "[13, -21.0, 0.9876376376376377, 1.8032748699188232]\n",
      "[14, -21.0, 0.9866866866866867, 1.7104051113128662]\n",
      "[15, -21.0, 0.9857357357357357, 1.6689338684082031]\n",
      "[16, -21.0, 0.9847847847847848, 2.104820966720581]\n",
      "[17, -21.0, 0.9838338338338338, 1.6429939270019531]\n",
      "[18, -21.0, 0.9828828828828828, 1.5947740077972412]\n",
      "[19, -21.0, 0.981931931931932, 1.6222240924835205]\n",
      "[20, -21.0, 0.980980980980981, 1.768754243850708]\n",
      "[21, -20.0, 0.98003003003003, 1.9965758323669434]\n",
      "[22, -21.0, 0.9790790790790791, 1.7469182014465332]\n",
      "[23, -21.0, 0.9781281281281281, 1.6352190971374512]\n",
      "[24, -21.0, 0.9771771771771772, 1.6016287803649902]\n",
      "[25, -21.0, 0.9762262262262262, 1.7960960865020752]\n",
      "[26, -20.0, 0.9752752752752752, 2.5212650299072266]\n",
      "[27, -21.0, 0.9743243243243244, 1.7690050601959229]\n",
      "[28, -21.0, 0.9733733733733734, 1.935460090637207]\n",
      "[29, -21.0, 0.9724224224224224, 1.6864829063415527]\n",
      "[30, -21.0, 0.9714714714714715, 2.000180959701538]\n",
      "[31, -21.0, 0.9705205205205205, 1.7718441486358643]\n",
      "[32, -21.0, 0.9695695695695695, 1.9409489631652832]\n",
      "[33, -20.0, 0.9686186186186186, 2.101351261138916]\n",
      "[34, -20.0, 0.9676676676676677, 2.0866539478302]\n",
      "[35, -21.0, 0.9667167167167168, 2.189749002456665]\n",
      "[36, -21.0, 0.9657657657657658, 2.2695648670196533]\n",
      "[37, -21.0, 0.9648148148148148, 3.0509371757507324]\n",
      "[38, -21.0, 0.9638638638638639, 2.204760789871216]\n",
      "[39, -21.0, 0.9629129129129129, 1.81215500831604]\n",
      "[40, -21.0, 0.9619619619619619, 1.5745341777801514]\n",
      "[41, -21.0, 0.961011011011011, 1.8865618705749512]\n",
      "[42, -20.0, 0.9600600600600601, 1.9179868698120117]\n",
      "[43, -21.0, 0.9591091091091091, 1.9103069305419922]\n",
      "[44, -20.0, 0.9581581581581582, 2.277509927749634]\n",
      "[45, -21.0, 0.9572072072072072, 1.9119832515716553]\n",
      "[46, -21.0, 0.9562562562562562, 2.2101566791534424]\n",
      "[47, -21.0, 0.9553053053053053, 1.9931650161743164]\n",
      "[48, -21.0, 0.9543543543543543, 2.0066030025482178]\n",
      "[49, -21.0, 0.9534034034034033, 2.6083128452301025]\n",
      "[50, -21.0, 0.9524524524524525, 1.7329683303833008]\n",
      "[51, -21.0, 0.9515015015015015, 1.8348689079284668]\n",
      "[52, -20.0, 0.9505505505505506, 2.3210608959198]\n",
      "[53, -20.0, 0.9495995995995996, 1.9636023044586182]\n",
      "[54, -21.0, 0.9486486486486486, 2.1196558475494385]\n",
      "[55, -21.0, 0.9476976976976977, 1.9758241176605225]\n",
      "[56, -21.0, 0.9467467467467467, 1.9996490478515625]\n",
      "[57, -21.0, 0.9457957957957958, 1.6865332126617432]\n",
      "[58, -20.0, 0.9448448448448449, 2.122044324874878]\n",
      "[59, -21.0, 0.9438938938938939, 1.9718987941741943]\n",
      "[60, -19.0, 0.9429429429429429, 2.685983896255493]\n",
      "[61, -21.0, 0.941991991991992, 1.6171350479125977]\n",
      "[62, -21.0, 0.941041041041041, 1.843562126159668]\n",
      "[63, -21.0, 0.9400900900900901, 2.1800920963287354]\n",
      "[64, -21.0, 0.9391391391391392, 1.8384010791778564]\n",
      "[65, -21.0, 0.9381881881881882, 1.725665807723999]\n",
      "[66, -21.0, 0.9372372372372373, 1.8491332530975342]\n",
      "[67, -21.0, 0.9362862862862863, 1.7187080383300781]\n",
      "[68, -20.0, 0.9353353353353353, 2.3580799102783203]\n",
      "[69, -21.0, 0.9343843843843844, 1.9534728527069092]\n",
      "[70, -21.0, 0.9334334334334334, 2.2600932121276855]\n",
      "[71, -21.0, 0.9324824824824824, 1.843386173248291]\n",
      "[72, -21.0, 0.9315315315315316, 1.8606882095336914]\n",
      "[73, -21.0, 0.9305805805805806, 1.95424222946167]\n",
      "[74, -21.0, 0.9296296296296296, 1.8093440532684326]\n",
      "[75, -21.0, 0.9286786786786787, 1.7172660827636719]\n",
      "[76, -21.0, 0.9277277277277277, 1.8618552684783936]\n",
      "[77, -21.0, 0.9267767767767767, 2.33909010887146]\n",
      "[78, -21.0, 0.9258258258258258, 2.1718978881835938]\n",
      "[79, -21.0, 0.9248748748748749, 1.764359951019287]\n",
      "[80, -21.0, 0.923923923923924, 2.0148651599884033]\n",
      "[81, -20.0, 0.922972972972973, 2.4729011058807373]\n",
      "[82, -21.0, 0.922022022022022, 1.9592649936676025]\n",
      "[83, -19.0, 0.9210710710710711, 2.327075958251953]\n",
      "[84, -21.0, 0.9201201201201201, 2.220407009124756]\n",
      "[85, -19.0, 0.9191691691691691, 2.639695882797241]\n",
      "[86, -21.0, 0.9182182182182183, 1.6963651180267334]\n",
      "[87, -20.0, 0.9172672672672673, 2.1944048404693604]\n",
      "[88, -21.0, 0.9163163163163164, 2.1341700553894043]\n",
      "[89, -20.0, 0.9153653653653654, 2.377671003341675]\n",
      "[90, -21.0, 0.9144144144144144, 2.051290988922119]\n",
      "[91, -21.0, 0.9134634634634635, 1.9823148250579834]\n",
      "[92, -20.0, 0.9125125125125125, 2.171954870223999]\n",
      "[93, -19.0, 0.9115615615615615, 2.230456829071045]\n",
      "[94, -18.0, 0.9106106106106107, 2.749401807785034]\n",
      "[95, -21.0, 0.9096596596596597, 1.966660737991333]\n",
      "[96, -19.0, 0.9087087087087087, 2.244058847427368]\n",
      "[97, -19.0, 0.9077577577577578, 2.2065911293029785]\n",
      "[98, -21.0, 0.9068068068068068, 2.2483158111572266]\n",
      "[99, -21.0, 0.9058558558558558, 1.9019269943237305]\n"
     ]
    }
   ],
   "source": [
    "records = []\n",
    "for game in range(ngames):\n",
    "    start = time.time()\n",
    "    frames, actions, rewards, score = play1game(mod,epsvec[game])\n",
    "\n",
    "    nframes = len(frames) # how many frames were there\n",
    "    current_frames = np.zeros((nframes,80,80,frames_to_net)) # create tensor, I am going to plug recent 4 frames\n",
    "    future_frames = np.zeros((nframes,80,80,frames_to_net))  # for vector of truth (pretend it as truth)\n",
    "    # if time 7, then 5 6 7 8\n",
    "  \n",
    "    for grab in range(nframes):\n",
    "        for f in range(frames_to_net):\n",
    "            if grab-f > 0:\n",
    "                current_frames[grab,:,:,f] = frames[grab-f].copy()\n",
    "            if (grab-f+1 > 0) & (grab-f+1 < (nframes-1)):\n",
    "                future_frames[grab,:,:,f] = frames[grab-f+1].copy()\n",
    "    target_vf = mod.predict(future_frames) # predicted truth (y hat)\n",
    "    \n",
    "    # three vectors of truth\n",
    "    y0 = np.zeros((nframes,1))\n",
    "    y1 = np.zeros((nframes,1))\n",
    "    y2 = np.zeros((nframes,1))\n",
    "    \n",
    "    # three vectors of weight (1 for pushed, 0 else)\n",
    "    weight0 = np.zeros(nframes)\n",
    "    weight1 = np.zeros(nframes)\n",
    "    weight2 = np.zeros(nframes)\n",
    "  \n",
    "    for grab in range(nframes):\n",
    "        rhs = rewards[grab] # lets say truth is reward for now\n",
    "        if rhs == 0: # if reward was 0, discounted value\n",
    "            rhs = delt*np.max([target_vf[0][grab],target_vf[1][grab],target_vf[2][grab]])\n",
    "        # assign weights\n",
    "        if actions[grab] == 0:\n",
    "            y0[grab,0] = rhs\n",
    "            weight0[grab] = 1\n",
    "        elif actions[grab] == 1:\n",
    "            y1[grab,0] = rhs\n",
    "            weight1[grab] = 1\n",
    "        else:\n",
    "            y2[grab,0] = rhs\n",
    "            weight2[grab] = 1\n",
    "  \n",
    "    mod.fit(current_frames,[y0,y1,y2],epochs=1,batch_size=nbatch,verbose=0,sample_weight={'out0':weight0,'out1':weight1,'out2':weight2},use_multiprocessing=True)\n",
    "    stop = time.time()\n",
    "    print([game, score, epsvec[game], stop-start])\n",
    "    records.append(score)\n"
   ]
  },
  {
   "cell_type": "code",
   "execution_count": 18,
   "metadata": {
    "id": "Q_o9ZvR5BUok"
   },
   "outputs": [
    {
     "name": "stdout",
     "output_type": "stream",
     "text": [
      "The average score: -20.65\n"
     ]
    }
   ],
   "source": [
    "# This simple method does not work well\n",
    "print(f'The average score: {sum(records)/len(records)}')"
   ]
  },
  {
   "cell_type": "code",
   "execution_count": null,
   "metadata": {},
   "outputs": [],
   "source": []
  }
 ],
 "metadata": {
  "colab": {
   "collapsed_sections": [],
   "name": "topic4-rl2.ipynb",
   "provenance": []
  },
  "kernelspec": {
   "display_name": "Python 3 (ipykernel)",
   "language": "python",
   "name": "python3"
  },
  "language_info": {
   "codemirror_mode": {
    "name": "ipython",
    "version": 3
   },
   "file_extension": ".py",
   "mimetype": "text/x-python",
   "name": "python",
   "nbconvert_exporter": "python",
   "pygments_lexer": "ipython3",
   "version": "3.8.12"
  }
 },
 "nbformat": 4,
 "nbformat_minor": 1
}
